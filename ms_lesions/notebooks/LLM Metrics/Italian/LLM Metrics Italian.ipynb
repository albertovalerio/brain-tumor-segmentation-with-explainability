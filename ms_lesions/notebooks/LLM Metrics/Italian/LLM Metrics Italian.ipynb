{
 "cells": [
  {
   "cell_type": "code",
   "execution_count": 55,
   "metadata": {},
   "outputs": [],
   "source": [
    "# %pip install spacy\n",
    "# %pip install textstat\n",
    "# %pip install -U sentence-transformers\n",
    "# %pip install spacy nltk"
   ]
  },
  {
   "cell_type": "markdown",
   "metadata": {},
   "source": [
    "# Import Libraries"
   ]
  },
  {
   "cell_type": "code",
   "execution_count": 56,
   "metadata": {},
   "outputs": [],
   "source": [
    "import os\n",
    "import glob\n",
    "import csv\n",
    "import numpy as np\n",
    "import string\n",
    "import spacy\n",
    "from spacy.tokenizer import Tokenizer\n",
    "from spacy.lang.it import Italian\n",
    "from spacy.lang.it.stop_words import STOP_WORDS\n",
    "from nltk.stem import SnowballStemmer\n",
    "from textstat import gulpease_index\n",
    "from sentence_transformers import SentenceTransformer\n",
    "from sklearn.metrics.pairwise import cosine_similarity\n"
   ]
  },
  {
   "cell_type": "code",
   "execution_count": 57,
   "metadata": {},
   "outputs": [],
   "source": [
    "nlp = Italian()\n",
    "# Create a blank Tokenizer with just the English vocab\n",
    "tokenizer = Tokenizer(nlp.vocab)"
   ]
  },
  {
   "cell_type": "code",
   "execution_count": 58,
   "metadata": {},
   "outputs": [],
   "source": [
    "PROJECT_PATH = os.path.dirname(os.path.dirname(os.path.dirname(os.getcwd())))\n",
    "RESULT_PATH = PROJECT_PATH + '/results/LLM Reports/SegResNet'"
   ]
  },
  {
   "cell_type": "markdown",
   "metadata": {},
   "source": [
    "# Functions"
   ]
  },
  {
   "cell_type": "markdown",
   "metadata": {},
   "source": [
    "## TTR"
   ]
  },
  {
   "cell_type": "code",
   "execution_count": 59,
   "metadata": {},
   "outputs": [],
   "source": [
    "def compute_TypeTokenRatio(content):\n",
    "    tokenized_content = tokenizer(content)\n",
    "    tokenized_text = [i.text for i in tokenized_content]\n",
    "    types = len(set(tokenized_text))\n",
    "    tokens = len(tokenized_text)\n",
    "    type_token_ratio = types / tokens\n",
    "    return type_token_ratio"
   ]
  },
  {
   "cell_type": "markdown",
   "metadata": {},
   "source": [
    "## MAAS Index"
   ]
  },
  {
   "cell_type": "code",
   "execution_count": 60,
   "metadata": {},
   "outputs": [],
   "source": [
    "def compute_Maas(content):\n",
    "    tokenized_content = tokenizer(content)\n",
    "    tokenized_text = [i.text for i in tokenized_content]\n",
    "    types = len(set(tokenized_text))\n",
    "    tokens = len(tokenized_text)\n",
    "    maas = (np.log(tokens) - np.log(types)) / np.log(tokens)**2\n",
    "    return maas"
   ]
  },
  {
   "cell_type": "markdown",
   "metadata": {},
   "source": [
    "## Gulpease (italian)"
   ]
  },
  {
   "cell_type": "code",
   "execution_count": 61,
   "metadata": {},
   "outputs": [],
   "source": [
    "def compute_Gulpease(text):\n",
    "    return gulpease_index(text)"
   ]
  },
  {
   "cell_type": "markdown",
   "metadata": {},
   "source": [
    "## Coherence Score"
   ]
  },
  {
   "cell_type": "code",
   "execution_count": 62,
   "metadata": {},
   "outputs": [],
   "source": [
    "def remove_special_characters(text):\n",
    "    cleaned_text = text.replace('-', '').replace('\\n', '').replace('*', '').replace('#','')\n",
    "    return cleaned_text"
   ]
  },
  {
   "cell_type": "code",
   "execution_count": 63,
   "metadata": {},
   "outputs": [],
   "source": [
    "def compute_CoherenceScore(text):\n",
    "    text = remove_special_characters(text)\n",
    "    model = SentenceTransformer('paraphrase-MiniLM-L6-v2')\n",
    "    sentences = text.split('.')\n",
    "    embeddings = model.encode(sentences)\n",
    "    similarities = [cosine_similarity([embeddings[i]], [embeddings[i+1]])[0][0] for i in range(len(embeddings)-1)]\n",
    "    avg_similarity = sum(similarities) / len(similarities)\n",
    "    return avg_similarity"
   ]
  },
  {
   "cell_type": "markdown",
   "metadata": {},
   "source": [
    "## Coverage Score Embedding"
   ]
  },
  {
   "cell_type": "code",
   "execution_count": 64,
   "metadata": {},
   "outputs": [],
   "source": [
    "def compute_CoverageScoreEmbedding(text, reference_text):\n",
    "    model = SentenceTransformer('paraphrase-MiniLM-L6-v2')\n",
    "    reference_text = reference_text.replace('.\\n\\n', '. ').replace('\\n\\t', '. ').replace('\\n\\n', '.').replace('\\n', '.').split('. ')\n",
    "    \n",
    "    reference_embeddings = model.encode(reference_text)\n",
    "    text_embeddings = model.encode([text])\n",
    "\n",
    "    similarities = cosine_similarity(text_embeddings, reference_embeddings)\n",
    "    coverage = sum(similarities[0]) / len(reference_text)\n",
    "    return coverage"
   ]
  },
  {
   "cell_type": "markdown",
   "metadata": {},
   "source": [
    "## Coverage Token Score\n"
   ]
  },
  {
   "cell_type": "code",
   "execution_count": 65,
   "metadata": {},
   "outputs": [],
   "source": [
    "def remove_stopwords_punctuation(text):\n",
    "    # Load the English model\n",
    "    nlp  = Italian()\n",
    "    # Process the text with spaCy\n",
    "    doc = nlp(text)\n",
    "    # Filter out stopwords and punctuation\n",
    "    cleaned_tokens = [token.text for token in doc if not token.is_stop and token.text not in string.punctuation]\n",
    "\n",
    "    # Join the tokens back into a single string\n",
    "    cleaned_text = ' '.join(cleaned_tokens)\n",
    "    cleaned_text = cleaned_text.replace('.', '')\n",
    "    return cleaned_text"
   ]
  },
  {
   "cell_type": "code",
   "execution_count": 66,
   "metadata": {},
   "outputs": [],
   "source": [
    "def stem_tokens(tokens):\n",
    "    stemmer = SnowballStemmer('italian')\n",
    "    return [stemmer.stem(token) for token in tokens]"
   ]
  },
  {
   "cell_type": "code",
   "execution_count": 67,
   "metadata": {},
   "outputs": [],
   "source": [
    "def remove_numbers(text):\n",
    "    return ''.join([i for i in text if not i.isdigit()])"
   ]
  },
  {
   "cell_type": "code",
   "execution_count": 68,
   "metadata": {},
   "outputs": [],
   "source": [
    "def compute_CoverageScoreToken(text, reference_text):\n",
    "    text = remove_special_characters(text)\n",
    "    text = remove_stopwords_punctuation(text)\n",
    "    text = remove_numbers(text)\n",
    "    text = text.lower()\n",
    "    reference_text = remove_special_characters(reference_text)\n",
    "    reference_text = remove_stopwords_punctuation(reference_text)\n",
    "    reference_text = remove_numbers(reference_text)\n",
    "    reference_text = reference_text.lower()\n",
    "\n",
    "\n",
    "    tokenized_text = tokenizer(text)\n",
    "    tokenized_text = [i.text for i in tokenized_text]\n",
    "\n",
    "    tokenized_reference_text = tokenizer(reference_text)\n",
    "    tokenized_reference_text = [i.text for i in tokenized_reference_text]\n",
    "    \n",
    "    stemmed_text = stem_tokens(tokenized_text)\n",
    "    stemmed_reference_text = stem_tokens(tokenized_reference_text)\n",
    "\n",
    "    set_tokenized_text = set(stemmed_text)\n",
    "    set_tokenized_reference_text = set(stemmed_reference_text)\n",
    "\n",
    "    intersection = set_tokenized_text.intersection(set_tokenized_reference_text)\n",
    "    union = set_tokenized_text.union(set_tokenized_reference_text)\n",
    "    coverage = len(intersection) / len(union)\n",
    "    \n",
    "    \n",
    "    return coverage"
   ]
  },
  {
   "cell_type": "markdown",
   "metadata": {},
   "source": [
    "# Prompt Path"
   ]
  },
  {
   "cell_type": "code",
   "execution_count": 69,
   "metadata": {},
   "outputs": [],
   "source": [
    "PATH_PROMPT1_IT = PROJECT_PATH + '/notebooks/Explainability/Prompt/PROMPT1_IT.txt'\n",
    "PATH_PROMPT2_IT = PROJECT_PATH + '/notebooks/Explainability/Prompt/PROMPT2_IT.txt'"
   ]
  },
  {
   "cell_type": "markdown",
   "metadata": {},
   "source": [
    "# Gemma"
   ]
  },
  {
   "cell_type": "code",
   "execution_count": 70,
   "metadata": {},
   "outputs": [
    {
     "data": {
      "text/plain": [
       "['d:\\\\User\\\\Salvarki\\\\Desktop\\\\GitHub Tesi Project\\\\Visual-and-Textual-Explainability-in-Brain-Multiple-Sclerosis-Detection-with-3D-MRI/results/LLM Reports/SegResNet/gemma\\\\gemma-7b-it_response_PROMPT1.md',\n",
       " 'd:\\\\User\\\\Salvarki\\\\Desktop\\\\GitHub Tesi Project\\\\Visual-and-Textual-Explainability-in-Brain-Multiple-Sclerosis-Detection-with-3D-MRI/results/LLM Reports/SegResNet/gemma\\\\gemma-7b-it_response_PROMPT1_IT.md',\n",
       " 'd:\\\\User\\\\Salvarki\\\\Desktop\\\\GitHub Tesi Project\\\\Visual-and-Textual-Explainability-in-Brain-Multiple-Sclerosis-Detection-with-3D-MRI/results/LLM Reports/SegResNet/gemma\\\\gemma-7b-it_response_PROMPT2.md',\n",
       " 'd:\\\\User\\\\Salvarki\\\\Desktop\\\\GitHub Tesi Project\\\\Visual-and-Textual-Explainability-in-Brain-Multiple-Sclerosis-Detection-with-3D-MRI/results/LLM Reports/SegResNet/gemma\\\\gemma-7b-it_response_PROMPT2_IT.md']"
      ]
     },
     "execution_count": 70,
     "metadata": {},
     "output_type": "execute_result"
    }
   ],
   "source": [
    "md_files = glob.glob(RESULT_PATH+'/gemma/'+'*.md')\n",
    "md_files"
   ]
  },
  {
   "cell_type": "markdown",
   "metadata": {},
   "source": [
    "### PROMPT 1 - Italian\n"
   ]
  },
  {
   "cell_type": "code",
   "execution_count": 71,
   "metadata": {},
   "outputs": [
    {
     "data": {
      "text/plain": [
       "'d:\\\\User\\\\Salvarki\\\\Desktop\\\\GitHub Tesi Project\\\\Visual-and-Textual-Explainability-in-Brain-Multiple-Sclerosis-Detection-with-3D-MRI/results/LLM Reports/SegResNet/gemma\\\\gemma-7b-it_response_PROMPT1_IT.md'"
      ]
     },
     "execution_count": 71,
     "metadata": {},
     "output_type": "execute_result"
    }
   ],
   "source": [
    "path_prompt_1_it_response = md_files[1]\n",
    "path_prompt_1_it_response"
   ]
  },
  {
   "cell_type": "code",
   "execution_count": 72,
   "metadata": {},
   "outputs": [],
   "source": [
    "with open(path_prompt_1_it_response, 'r') as file:\n",
    "    content = file.read()\n",
    "\n",
    "with open(PATH_PROMPT1_IT, 'r') as file:\n",
    "    prompt = file.read()"
   ]
  },
  {
   "cell_type": "code",
   "execution_count": 73,
   "metadata": {},
   "outputs": [
    {
     "name": "stderr",
     "output_type": "stream",
     "text": [
      "d:\\User\\Salvarki\\Desktop\\GitHub Tesi Project\\myenv\\Lib\\site-packages\\huggingface_hub\\file_download.py:1132: FutureWarning: `resume_download` is deprecated and will be removed in version 1.0.0. Downloads always resume when possible. If you want to force a new download, use `force_download=True`.\n",
      "  warnings.warn(\n",
      "d:\\User\\Salvarki\\Desktop\\GitHub Tesi Project\\myenv\\Lib\\site-packages\\huggingface_hub\\file_download.py:1132: FutureWarning: `resume_download` is deprecated and will be removed in version 1.0.0. Downloads always resume when possible. If you want to force a new download, use `force_download=True`.\n",
      "  warnings.warn(\n"
     ]
    },
    {
     "name": "stdout",
     "output_type": "stream",
     "text": [
      "Type Token Ratio: 0.5034965034965035\n",
      "Maas Index: 0.021449618355036476\n",
      "Gulpease: 41.2\n",
      "Coherence Score: 0.49918018182118734\n",
      "Coverage Score: 0.31838043521230036\n",
      "Coverage Score Token: 0.34615384615384615\n",
      "Metrics saved to gemma-7b-it_response_PROMPT1_IT_metrics.csv\n"
     ]
    }
   ],
   "source": [
    "type_token_ratio = compute_TypeTokenRatio(content)\n",
    "maas_index = compute_Maas(content)\n",
    "gulpease = compute_Gulpease(content)\n",
    "coherence_score = compute_CoherenceScore(content)\n",
    "coverage_score = compute_CoverageScoreEmbedding(content, prompt)\n",
    "coverage_score_token = compute_CoverageScoreToken(content, prompt)\n",
    "\n",
    "metric_names = ['Type Token Ratio', 'Maas Index', 'Gulpease', 'Coherence Score', 'Coverage Score', 'Coverage Score Token']\n",
    "metric_values = [type_token_ratio, maas_index, gulpease, coherence_score, coverage_score, coverage_score_token]\n",
    "\n",
    "# Create a list of dictionaries for each metric\n",
    "metrics_data = []\n",
    "for name, value in zip(metric_names, metric_values):\n",
    "    metrics_data.append({'Metric Name': name, 'Metric Value': round(value, 3)})\n",
    "    \n",
    "# Print metric name and value\n",
    "for name, value in zip(metric_names, metric_values):\n",
    "    print(f\"{name}: {value}\")\n",
    "\n",
    "# Write metrics to a CSV file\n",
    "csv_file = 'gemma-7b-it_response_PROMPT1_IT_metrics.csv'\n",
    "with open(csv_file, 'w', newline='') as file:\n",
    "    writer = csv.DictWriter(file, fieldnames=['Metric Name', 'Metric Value'])\n",
    "    writer.writeheader()\n",
    "    writer.writerows(metrics_data)\n",
    "\n",
    "print(f\"Metrics saved to {csv_file}\")"
   ]
  },
  {
   "cell_type": "markdown",
   "metadata": {},
   "source": [
    "### PROMPT 2 - Italian"
   ]
  },
  {
   "cell_type": "code",
   "execution_count": 74,
   "metadata": {},
   "outputs": [
    {
     "data": {
      "text/plain": [
       "'d:\\\\User\\\\Salvarki\\\\Desktop\\\\GitHub Tesi Project\\\\Visual-and-Textual-Explainability-in-Brain-Multiple-Sclerosis-Detection-with-3D-MRI/results/LLM Reports/SegResNet/gemma\\\\gemma-7b-it_response_PROMPT2_IT.md'"
      ]
     },
     "execution_count": 74,
     "metadata": {},
     "output_type": "execute_result"
    }
   ],
   "source": [
    "path_prompt_2_it_response = md_files[3]\n",
    "path_prompt_2_it_response"
   ]
  },
  {
   "cell_type": "code",
   "execution_count": 75,
   "metadata": {},
   "outputs": [],
   "source": [
    "with open(path_prompt_2_it_response, 'r') as file:\n",
    "    content = file.read()\n",
    "\n",
    "with open(PATH_PROMPT2_IT, 'r') as file:\n",
    "    prompt = file.read()"
   ]
  },
  {
   "cell_type": "code",
   "execution_count": 76,
   "metadata": {},
   "outputs": [
    {
     "name": "stderr",
     "output_type": "stream",
     "text": [
      "d:\\User\\Salvarki\\Desktop\\GitHub Tesi Project\\myenv\\Lib\\site-packages\\huggingface_hub\\file_download.py:1132: FutureWarning: `resume_download` is deprecated and will be removed in version 1.0.0. Downloads always resume when possible. If you want to force a new download, use `force_download=True`.\n",
      "  warnings.warn(\n",
      "d:\\User\\Salvarki\\Desktop\\GitHub Tesi Project\\myenv\\Lib\\site-packages\\huggingface_hub\\file_download.py:1132: FutureWarning: `resume_download` is deprecated and will be removed in version 1.0.0. Downloads always resume when possible. If you want to force a new download, use `force_download=True`.\n",
      "  warnings.warn(\n"
     ]
    },
    {
     "name": "stdout",
     "output_type": "stream",
     "text": [
      "Type Token Ratio: 0.5330578512396694\n",
      "Maas Index: 0.02088144546773994\n",
      "Gulpease: 34.6\n",
      "Coherence Score: 0.419590728978316\n",
      "Coverage Score: 0.4452822215648161\n",
      "Coverage Score Token: 0.23577235772357724\n",
      "Metrics saved to gemma-7b-it_response_PROMPT2_IT_metrics.csv\n"
     ]
    }
   ],
   "source": [
    "type_token_ratio = compute_TypeTokenRatio(content)\n",
    "maas_index = compute_Maas(content)\n",
    "gulpease = compute_Gulpease(content)\n",
    "coherence_score = compute_CoherenceScore(content)\n",
    "coverage_score = compute_CoverageScoreEmbedding(content, prompt)\n",
    "coverage_score_token = compute_CoverageScoreToken(content, prompt)\n",
    "\n",
    "metric_names = ['Type Token Ratio', 'Maas Index', 'Gulpease', 'Coherence Score', 'Coverage Score', 'Coverage Score Token']\n",
    "metric_values = [type_token_ratio, maas_index, gulpease, coherence_score, coverage_score, coverage_score_token]\n",
    "\n",
    "# Create a list of dictionaries for each metric\n",
    "metrics_data = []\n",
    "for name, value in zip(metric_names, metric_values):\n",
    "    metrics_data.append({'Metric Name': name, 'Metric Value': round(value, 3)})\n",
    "    \n",
    "# Print metric name and value\n",
    "for name, value in zip(metric_names, metric_values):\n",
    "    print(f\"{name}: {value}\")\n",
    "\n",
    "# Write metrics to a CSV file\n",
    "csv_file = 'gemma-7b-it_response_PROMPT2_IT_metrics.csv'\n",
    "with open(csv_file, 'w', newline='') as file:\n",
    "    writer = csv.DictWriter(file, fieldnames=['Metric Name', 'Metric Value'])\n",
    "    writer.writeheader()\n",
    "    writer.writerows(metrics_data)\n",
    "\n",
    "print(f\"Metrics saved to {csv_file}\")"
   ]
  },
  {
   "cell_type": "markdown",
   "metadata": {},
   "source": [
    "# LLAMA3 "
   ]
  },
  {
   "cell_type": "code",
   "execution_count": 77,
   "metadata": {},
   "outputs": [
    {
     "data": {
      "text/plain": [
       "['d:\\\\User\\\\Salvarki\\\\Desktop\\\\GitHub Tesi Project\\\\Visual-and-Textual-Explainability-in-Brain-Multiple-Sclerosis-Detection-with-3D-MRI/results/LLM Reports/SegResNet/llama3\\\\llama3-70b_response_PROMPT1.md',\n",
       " 'd:\\\\User\\\\Salvarki\\\\Desktop\\\\GitHub Tesi Project\\\\Visual-and-Textual-Explainability-in-Brain-Multiple-Sclerosis-Detection-with-3D-MRI/results/LLM Reports/SegResNet/llama3\\\\llama3-70b_response_PROMPT1_IT.md',\n",
       " 'd:\\\\User\\\\Salvarki\\\\Desktop\\\\GitHub Tesi Project\\\\Visual-and-Textual-Explainability-in-Brain-Multiple-Sclerosis-Detection-with-3D-MRI/results/LLM Reports/SegResNet/llama3\\\\llama3-70b_response_PROMPT2.md',\n",
       " 'd:\\\\User\\\\Salvarki\\\\Desktop\\\\GitHub Tesi Project\\\\Visual-and-Textual-Explainability-in-Brain-Multiple-Sclerosis-Detection-with-3D-MRI/results/LLM Reports/SegResNet/llama3\\\\llama3-70b_response_PROMPT2_IT.md',\n",
       " 'd:\\\\User\\\\Salvarki\\\\Desktop\\\\GitHub Tesi Project\\\\Visual-and-Textual-Explainability-in-Brain-Multiple-Sclerosis-Detection-with-3D-MRI/results/LLM Reports/SegResNet/llama3\\\\llama3-8b_response_PROMPT1.md',\n",
       " 'd:\\\\User\\\\Salvarki\\\\Desktop\\\\GitHub Tesi Project\\\\Visual-and-Textual-Explainability-in-Brain-Multiple-Sclerosis-Detection-with-3D-MRI/results/LLM Reports/SegResNet/llama3\\\\llama3-8b_response_PROMPT1_IT.md',\n",
       " 'd:\\\\User\\\\Salvarki\\\\Desktop\\\\GitHub Tesi Project\\\\Visual-and-Textual-Explainability-in-Brain-Multiple-Sclerosis-Detection-with-3D-MRI/results/LLM Reports/SegResNet/llama3\\\\llama3-8b_response_PROMPT2.md',\n",
       " 'd:\\\\User\\\\Salvarki\\\\Desktop\\\\GitHub Tesi Project\\\\Visual-and-Textual-Explainability-in-Brain-Multiple-Sclerosis-Detection-with-3D-MRI/results/LLM Reports/SegResNet/llama3\\\\llama3-8b_response_PROMPT2_IT.md']"
      ]
     },
     "execution_count": 77,
     "metadata": {},
     "output_type": "execute_result"
    }
   ],
   "source": [
    "md_files = glob.glob(RESULT_PATH+'/llama3/'+'*.md')\n",
    "md_files"
   ]
  },
  {
   "cell_type": "markdown",
   "metadata": {},
   "source": [
    "## LLAMA 3 8B"
   ]
  },
  {
   "cell_type": "markdown",
   "metadata": {},
   "source": [
    "### PROMPT 1 - Italian"
   ]
  },
  {
   "cell_type": "code",
   "execution_count": 78,
   "metadata": {},
   "outputs": [],
   "source": [
    "path_prompt_1_response = md_files[1]\n",
    "\n",
    "with open(path_prompt_1_response, 'r') as file:\n",
    "    content = file.read()\n",
    "\n",
    "with open(PATH_PROMPT1_IT, 'r') as file:\n",
    "    prompt = file.read()"
   ]
  },
  {
   "cell_type": "code",
   "execution_count": 79,
   "metadata": {},
   "outputs": [
    {
     "name": "stderr",
     "output_type": "stream",
     "text": [
      "d:\\User\\Salvarki\\Desktop\\GitHub Tesi Project\\myenv\\Lib\\site-packages\\huggingface_hub\\file_download.py:1132: FutureWarning: `resume_download` is deprecated and will be removed in version 1.0.0. Downloads always resume when possible. If you want to force a new download, use `force_download=True`.\n",
      "  warnings.warn(\n",
      "d:\\User\\Salvarki\\Desktop\\GitHub Tesi Project\\myenv\\Lib\\site-packages\\huggingface_hub\\file_download.py:1132: FutureWarning: `resume_download` is deprecated and will be removed in version 1.0.0. Downloads always resume when possible. If you want to force a new download, use `force_download=True`.\n",
      "  warnings.warn(\n"
     ]
    },
    {
     "name": "stdout",
     "output_type": "stream",
     "text": [
      "Type Token Ratio: 0.3752577319587629\n",
      "Maas Index: 0.02562885567550792\n",
      "Gulpease: 43.8\n",
      "Coherence Score: 0.37882575962473364\n",
      "Coverage Score: 0.3445963068650319\n",
      "Coverage Score Token: 0.3761467889908257\n",
      "Metrics saved to llama3_8b_response_PROMPT1_IT_metrics.csv\n"
     ]
    }
   ],
   "source": [
    "type_token_ratio = compute_TypeTokenRatio(content)\n",
    "maas_index = compute_Maas(content)\n",
    "gulpease = compute_Gulpease(content)\n",
    "coherence_score = compute_CoherenceScore(content)\n",
    "coverage_score = compute_CoverageScoreEmbedding(content, prompt)\n",
    "coverage_score_token = compute_CoverageScoreToken(content, prompt)\n",
    "\n",
    "metric_names = ['Type Token Ratio', 'Maas Index', 'Gulpease', 'Coherence Score', 'Coverage Score', 'Coverage Score Token']\n",
    "metric_values = [type_token_ratio, maas_index, gulpease, coherence_score, coverage_score, coverage_score_token]\n",
    "\n",
    "# Create a list of dictionaries for each metric\n",
    "metrics_data = []\n",
    "for name, value in zip(metric_names, metric_values):\n",
    "    metrics_data.append({'Metric Name': name, 'Metric Value': round(value, 3)})\n",
    "    \n",
    "# Print metric name and value\n",
    "for name, value in zip(metric_names, metric_values):\n",
    "    print(f\"{name}: {value}\")\n",
    "\n",
    "# Write metrics to a CSV file\n",
    "csv_file = 'llama3_8b_response_PROMPT1_IT_metrics.csv'\n",
    "with open(csv_file, 'w', newline='') as file:\n",
    "    writer = csv.DictWriter(file, fieldnames=['Metric Name', 'Metric Value'])\n",
    "    writer.writeheader()\n",
    "    writer.writerows(metrics_data)\n",
    "\n",
    "print(f\"Metrics saved to {csv_file}\")"
   ]
  },
  {
   "cell_type": "markdown",
   "metadata": {},
   "source": [
    "### PROMPT 2 - ENGLISH"
   ]
  },
  {
   "cell_type": "code",
   "execution_count": 80,
   "metadata": {},
   "outputs": [],
   "source": [
    "path_prompt_2_response = md_files[3]\n",
    "\n",
    "with open(path_prompt_2_response, 'r') as file:\n",
    "    content = file.read()\n",
    "\n",
    "with open(PATH_PROMPT2_IT, 'r') as file:\n",
    "    prompt = file.read()"
   ]
  },
  {
   "cell_type": "code",
   "execution_count": 81,
   "metadata": {},
   "outputs": [
    {
     "name": "stderr",
     "output_type": "stream",
     "text": [
      "d:\\User\\Salvarki\\Desktop\\GitHub Tesi Project\\myenv\\Lib\\site-packages\\huggingface_hub\\file_download.py:1132: FutureWarning: `resume_download` is deprecated and will be removed in version 1.0.0. Downloads always resume when possible. If you want to force a new download, use `force_download=True`.\n",
      "  warnings.warn(\n",
      "d:\\User\\Salvarki\\Desktop\\GitHub Tesi Project\\myenv\\Lib\\site-packages\\huggingface_hub\\file_download.py:1132: FutureWarning: `resume_download` is deprecated and will be removed in version 1.0.0. Downloads always resume when possible. If you want to force a new download, use `force_download=True`.\n",
      "  warnings.warn(\n"
     ]
    },
    {
     "name": "stdout",
     "output_type": "stream",
     "text": [
      "Type Token Ratio: 0.3407534246575342\n",
      "Maas Index: 0.026533067551857605\n",
      "Gulpease: 33.7\n",
      "Coherence Score: 0.4723692656579343\n",
      "Coverage Score: 0.41511964197787976\n",
      "Coverage Score Token: 0.3125\n",
      "Metrics saved to llama3_8b_response_PROMPT2_IT_metrics.csv\n"
     ]
    }
   ],
   "source": [
    "type_token_ratio = compute_TypeTokenRatio(content)\n",
    "maas_index = compute_Maas(content)\n",
    "gulpease = compute_Gulpease(content)\n",
    "coherence_score = compute_CoherenceScore(content)\n",
    "coverage_score = compute_CoverageScoreEmbedding(content, prompt)\n",
    "coverage_score_token = compute_CoverageScoreToken(content, prompt)\n",
    "\n",
    "metric_names = ['Type Token Ratio', 'Maas Index', 'Gulpease', 'Coherence Score', 'Coverage Score', 'Coverage Score Token']\n",
    "metric_values = [type_token_ratio, maas_index, gulpease, coherence_score, coverage_score, coverage_score_token]\n",
    "\n",
    "# Create a list of dictionaries for each metric\n",
    "metrics_data = []\n",
    "for name, value in zip(metric_names, metric_values):\n",
    "    metrics_data.append({'Metric Name': name, 'Metric Value': round(value, 3)})\n",
    "    \n",
    "# Print metric name and value\n",
    "for name, value in zip(metric_names, metric_values):\n",
    "    print(f\"{name}: {value}\")\n",
    "\n",
    "# Write metrics to a CSV file\n",
    "csv_file = 'llama3_8b_response_PROMPT2_IT_metrics.csv'\n",
    "with open(csv_file, 'w', newline='') as file:\n",
    "    writer = csv.DictWriter(file, fieldnames=['Metric Name', 'Metric Value'])\n",
    "    writer.writeheader()\n",
    "    writer.writerows(metrics_data)\n",
    "\n",
    "print(f\"Metrics saved to {csv_file}\")"
   ]
  },
  {
   "cell_type": "markdown",
   "metadata": {},
   "source": [
    "## LLAMA 3 70B"
   ]
  },
  {
   "cell_type": "markdown",
   "metadata": {},
   "source": [
    "### PROMPT 1 - ENGLISH"
   ]
  },
  {
   "cell_type": "code",
   "execution_count": 82,
   "metadata": {},
   "outputs": [],
   "source": [
    "path_prompt_1_response = md_files[5]\n",
    "\n",
    "with open(path_prompt_1_response, 'r') as file:\n",
    "    content = file.read()\n",
    "\n",
    "with open(PATH_PROMPT1_IT, 'r') as file:\n",
    "    prompt = file.read()"
   ]
  },
  {
   "cell_type": "code",
   "execution_count": 83,
   "metadata": {},
   "outputs": [
    {
     "name": "stderr",
     "output_type": "stream",
     "text": [
      "d:\\User\\Salvarki\\Desktop\\GitHub Tesi Project\\myenv\\Lib\\site-packages\\huggingface_hub\\file_download.py:1132: FutureWarning: `resume_download` is deprecated and will be removed in version 1.0.0. Downloads always resume when possible. If you want to force a new download, use `force_download=True`.\n",
      "  warnings.warn(\n",
      "d:\\User\\Salvarki\\Desktop\\GitHub Tesi Project\\myenv\\Lib\\site-packages\\huggingface_hub\\file_download.py:1132: FutureWarning: `resume_download` is deprecated and will be removed in version 1.0.0. Downloads always resume when possible. If you want to force a new download, use `force_download=True`.\n",
      "  warnings.warn(\n"
     ]
    },
    {
     "name": "stdout",
     "output_type": "stream",
     "text": [
      "Type Token Ratio: 0.41452991452991456\n",
      "Maas Index: 0.0232943075161592\n",
      "Gulpease: 37.4\n",
      "Coherence Score: 0.6020091601780483\n",
      "Coverage Score: 0.37371335508158576\n",
      "Coverage Score Token: 0.32142857142857145\n",
      "Metrics saved to llama3_70b_response_PROMPT1_IT_metrics.csv\n"
     ]
    }
   ],
   "source": [
    "type_token_ratio = compute_TypeTokenRatio(content)\n",
    "maas_index = compute_Maas(content)\n",
    "gulpease = compute_Gulpease(content)\n",
    "coherence_score = compute_CoherenceScore(content)\n",
    "coverage_score = compute_CoverageScoreEmbedding(content, prompt)\n",
    "coverage_score_token = compute_CoverageScoreToken(content, prompt)\n",
    "\n",
    "metric_names = ['Type Token Ratio', 'Maas Index', 'Gulpease', 'Coherence Score', 'Coverage Score', 'Coverage Score Token']\n",
    "metric_values = [type_token_ratio, maas_index, gulpease, coherence_score, coverage_score, coverage_score_token]\n",
    "\n",
    "# Create a list of dictionaries for each metric\n",
    "metrics_data = []\n",
    "for name, value in zip(metric_names, metric_values):\n",
    "    metrics_data.append({'Metric Name': name, 'Metric Value': round(value, 3)})\n",
    "    \n",
    "# Print metric name and value\n",
    "for name, value in zip(metric_names, metric_values):\n",
    "    print(f\"{name}: {value}\")\n",
    "\n",
    "# Write metrics to a CSV file\n",
    "csv_file = 'llama3_70b_response_PROMPT1_IT_metrics.csv'\n",
    "with open(csv_file, 'w', newline='') as file:\n",
    "    writer = csv.DictWriter(file, fieldnames=['Metric Name', 'Metric Value'])\n",
    "    writer.writeheader()\n",
    "    writer.writerows(metrics_data)\n",
    "\n",
    "print(f\"Metrics saved to {csv_file}\")"
   ]
  },
  {
   "cell_type": "markdown",
   "metadata": {},
   "source": [
    "### PROMPT 2 - ENGLISH"
   ]
  },
  {
   "cell_type": "code",
   "execution_count": 84,
   "metadata": {},
   "outputs": [],
   "source": [
    "path_prompt_2_response = md_files[7]\n",
    "\n",
    "with open(path_prompt_2_response, 'r') as file:\n",
    "    content = file.read()\n",
    "\n",
    "with open(PATH_PROMPT2_IT, 'r') as file:\n",
    "    prompt = file.read()"
   ]
  },
  {
   "cell_type": "code",
   "execution_count": 85,
   "metadata": {},
   "outputs": [
    {
     "name": "stderr",
     "output_type": "stream",
     "text": [
      "d:\\User\\Salvarki\\Desktop\\GitHub Tesi Project\\myenv\\Lib\\site-packages\\huggingface_hub\\file_download.py:1132: FutureWarning: `resume_download` is deprecated and will be removed in version 1.0.0. Downloads always resume when possible. If you want to force a new download, use `force_download=True`.\n",
      "  warnings.warn(\n",
      "d:\\User\\Salvarki\\Desktop\\GitHub Tesi Project\\myenv\\Lib\\site-packages\\huggingface_hub\\file_download.py:1132: FutureWarning: `resume_download` is deprecated and will be removed in version 1.0.0. Downloads always resume when possible. If you want to force a new download, use `force_download=True`.\n",
      "  warnings.warn(\n"
     ]
    },
    {
     "name": "stdout",
     "output_type": "stream",
     "text": [
      "Type Token Ratio: 0.35654008438818563\n",
      "Maas Index: 0.02716795795670246\n",
      "Gulpease: 38.1\n",
      "Coherence Score: 0.6155580254761797\n",
      "Coverage Score: 0.4413571297708485\n",
      "Coverage Score Token: 0.4322033898305085\n",
      "Metrics saved to llama3_70b_response_PROMPT2_IT_metrics.csv\n"
     ]
    }
   ],
   "source": [
    "type_token_ratio = compute_TypeTokenRatio(content)\n",
    "maas_index = compute_Maas(content)\n",
    "gulpease = compute_Gulpease(content)\n",
    "coherence_score = compute_CoherenceScore(content)\n",
    "coverage_score = compute_CoverageScoreEmbedding(content, prompt)\n",
    "coverage_score_token = compute_CoverageScoreToken(content, prompt)\n",
    "\n",
    "metric_names = ['Type Token Ratio', 'Maas Index', 'Gulpease', 'Coherence Score', 'Coverage Score', 'Coverage Score Token']\n",
    "metric_values = [type_token_ratio, maas_index, gulpease, coherence_score, coverage_score, coverage_score_token]\n",
    "\n",
    "# Create a list of dictionaries for each metric\n",
    "metrics_data = []\n",
    "for name, value in zip(metric_names, metric_values):\n",
    "    metrics_data.append({'Metric Name': name, 'Metric Value': round(value, 3)})\n",
    "    \n",
    "# Print metric name and value\n",
    "for name, value in zip(metric_names, metric_values):\n",
    "    print(f\"{name}: {value}\")\n",
    "\n",
    "# Write metrics to a CSV file\n",
    "csv_file = 'llama3_70b_response_PROMPT2_IT_metrics.csv'\n",
    "with open(csv_file, 'w', newline='') as file:\n",
    "    writer = csv.DictWriter(file, fieldnames=['Metric Name', 'Metric Value'])\n",
    "    writer.writeheader()\n",
    "    writer.writerows(metrics_data)\n",
    "\n",
    "print(f\"Metrics saved to {csv_file}\")"
   ]
  },
  {
   "cell_type": "markdown",
   "metadata": {},
   "source": [
    "# MIXTRAL"
   ]
  },
  {
   "cell_type": "code",
   "execution_count": 86,
   "metadata": {},
   "outputs": [
    {
     "data": {
      "text/plain": [
       "['d:\\\\User\\\\Salvarki\\\\Desktop\\\\GitHub Tesi Project\\\\Visual-and-Textual-Explainability-in-Brain-Multiple-Sclerosis-Detection-with-3D-MRI/results/LLM Reports/SegResNet/mixtral\\\\mixtral-8x7b_response_PROMPT1.md',\n",
       " 'd:\\\\User\\\\Salvarki\\\\Desktop\\\\GitHub Tesi Project\\\\Visual-and-Textual-Explainability-in-Brain-Multiple-Sclerosis-Detection-with-3D-MRI/results/LLM Reports/SegResNet/mixtral\\\\mixtral-8x7b_response_PROMPT1_IT.md',\n",
       " 'd:\\\\User\\\\Salvarki\\\\Desktop\\\\GitHub Tesi Project\\\\Visual-and-Textual-Explainability-in-Brain-Multiple-Sclerosis-Detection-with-3D-MRI/results/LLM Reports/SegResNet/mixtral\\\\mixtral-8x7b_response_PROMPT2.md',\n",
       " 'd:\\\\User\\\\Salvarki\\\\Desktop\\\\GitHub Tesi Project\\\\Visual-and-Textual-Explainability-in-Brain-Multiple-Sclerosis-Detection-with-3D-MRI/results/LLM Reports/SegResNet/mixtral\\\\mixtral-8x7b_response_PROMPT2_IT.md']"
      ]
     },
     "execution_count": 86,
     "metadata": {},
     "output_type": "execute_result"
    }
   ],
   "source": [
    "md_files = glob.glob(RESULT_PATH+'/mixtral/'+'*.md')\n",
    "md_files"
   ]
  },
  {
   "cell_type": "markdown",
   "metadata": {},
   "source": [
    "## PROMPT 1 - Italian"
   ]
  },
  {
   "cell_type": "code",
   "execution_count": 87,
   "metadata": {},
   "outputs": [],
   "source": [
    "path_prompt_1_response = md_files[1]\n",
    "\n",
    "with open(path_prompt_1_response, 'r') as file:\n",
    "    content = file.read()\n",
    "\n",
    "with open(PATH_PROMPT1_IT, 'r') as file:\n",
    "    prompt = file.read()"
   ]
  },
  {
   "cell_type": "code",
   "execution_count": 88,
   "metadata": {},
   "outputs": [
    {
     "name": "stderr",
     "output_type": "stream",
     "text": [
      "d:\\User\\Salvarki\\Desktop\\GitHub Tesi Project\\myenv\\Lib\\site-packages\\huggingface_hub\\file_download.py:1132: FutureWarning: `resume_download` is deprecated and will be removed in version 1.0.0. Downloads always resume when possible. If you want to force a new download, use `force_download=True`.\n",
      "  warnings.warn(\n",
      "d:\\User\\Salvarki\\Desktop\\GitHub Tesi Project\\myenv\\Lib\\site-packages\\huggingface_hub\\file_download.py:1132: FutureWarning: `resume_download` is deprecated and will be removed in version 1.0.0. Downloads always resume when possible. If you want to force a new download, use `force_download=True`.\n",
      "  warnings.warn(\n"
     ]
    },
    {
     "name": "stdout",
     "output_type": "stream",
     "text": [
      "Type Token Ratio: 0.4609164420485175\n",
      "Maas Index: 0.022128756834580137\n",
      "Gulpease: 53.0\n",
      "Coherence Score: 0.3187603836831374\n",
      "Coverage Score: 0.367372308499538\n",
      "Coverage Score Token: 0.5222222222222223\n",
      "Metrics saved to mixtral_8x7b_response_PROMPT1_IT_metrics.csv\n"
     ]
    }
   ],
   "source": [
    "type_token_ratio = compute_TypeTokenRatio(content)\n",
    "maas_index = compute_Maas(content)\n",
    "gulpease = compute_Gulpease(content)\n",
    "coherence_score = compute_CoherenceScore(content)\n",
    "coverage_score = compute_CoverageScoreEmbedding(content, prompt)\n",
    "coverage_score_token = compute_CoverageScoreToken(content, prompt)\n",
    "\n",
    "metric_names = ['Type Token Ratio', 'Maas Index', 'Gulpease', 'Coherence Score', 'Coverage Score', 'Coverage Score Token']\n",
    "metric_values = [type_token_ratio, maas_index, gulpease, coherence_score, coverage_score, coverage_score_token]\n",
    "\n",
    "# Create a list of dictionaries for each metric\n",
    "metrics_data = []\n",
    "for name, value in zip(metric_names, metric_values):\n",
    "    metrics_data.append({'Metric Name': name, 'Metric Value': round(value, 3)})\n",
    "    \n",
    "# Print metric name and value\n",
    "for name, value in zip(metric_names, metric_values):\n",
    "    print(f\"{name}: {value}\")\n",
    "\n",
    "# Write metrics to a CSV file\n",
    "csv_file = 'mixtral_8x7b_response_PROMPT1_IT_metrics.csv'\n",
    "with open(csv_file, 'w', newline='') as file:\n",
    "    writer = csv.DictWriter(file, fieldnames=['Metric Name', 'Metric Value'])\n",
    "    writer.writeheader()\n",
    "    writer.writerows(metrics_data)\n",
    "\n",
    "print(f\"Metrics saved to {csv_file}\")"
   ]
  },
  {
   "cell_type": "markdown",
   "metadata": {},
   "source": [
    "## PROMPT 2 - ENGLISH"
   ]
  },
  {
   "cell_type": "code",
   "execution_count": 89,
   "metadata": {},
   "outputs": [],
   "source": [
    "path_prompt_2_response = md_files[3]\n",
    "\n",
    "with open(path_prompt_2_response, 'r') as file:\n",
    "    content = file.read()\n",
    "\n",
    "with open(PATH_PROMPT2_IT, 'r') as file:\n",
    "    prompt = file.read()"
   ]
  },
  {
   "cell_type": "code",
   "execution_count": 90,
   "metadata": {},
   "outputs": [
    {
     "name": "stderr",
     "output_type": "stream",
     "text": [
      "d:\\User\\Salvarki\\Desktop\\GitHub Tesi Project\\myenv\\Lib\\site-packages\\huggingface_hub\\file_download.py:1132: FutureWarning: `resume_download` is deprecated and will be removed in version 1.0.0. Downloads always resume when possible. If you want to force a new download, use `force_download=True`.\n",
      "  warnings.warn(\n",
      "d:\\User\\Salvarki\\Desktop\\GitHub Tesi Project\\myenv\\Lib\\site-packages\\huggingface_hub\\file_download.py:1132: FutureWarning: `resume_download` is deprecated and will be removed in version 1.0.0. Downloads always resume when possible. If you want to force a new download, use `force_download=True`.\n",
      "  warnings.warn(\n"
     ]
    },
    {
     "name": "stdout",
     "output_type": "stream",
     "text": [
      "Type Token Ratio: 0.49480249480249483\n",
      "Maas Index: 0.01844708812796763\n",
      "Gulpease: 51.1\n",
      "Coherence Score: 0.34592713597748015\n",
      "Coverage Score: 0.44034856744110584\n",
      "Coverage Score Token: 0.30303030303030304\n",
      "Metrics saved to mixtral_8x7b_response_PROMPT2_IT_metrics.csv\n"
     ]
    }
   ],
   "source": [
    "type_token_ratio = compute_TypeTokenRatio(content)\n",
    "maas_index = compute_Maas(content)\n",
    "gulpease = compute_Gulpease(content)\n",
    "coherence_score = compute_CoherenceScore(content)\n",
    "coverage_score = compute_CoverageScoreEmbedding(content, prompt)\n",
    "coverage_score_token = compute_CoverageScoreToken(content, prompt)\n",
    "\n",
    "metric_names = ['Type Token Ratio', 'Maas Index', 'Gulpease', 'Coherence Score', 'Coverage Score', 'Coverage Score Token']\n",
    "metric_values = [type_token_ratio, maas_index, gulpease, coherence_score, coverage_score, coverage_score_token]\n",
    "\n",
    "# Create a list of dictionaries for each metric\n",
    "metrics_data = []\n",
    "for name, value in zip(metric_names, metric_values):\n",
    "    metrics_data.append({'Metric Name': name, 'Metric Value': round(value, 3)})\n",
    "    \n",
    "# Print metric name and value\n",
    "for name, value in zip(metric_names, metric_values):\n",
    "    print(f\"{name}: {value}\")\n",
    "\n",
    "# Write metrics to a CSV file\n",
    "csv_file = 'mixtral_8x7b_response_PROMPT2_IT_metrics.csv'\n",
    "with open(csv_file, 'w', newline='') as file:\n",
    "    writer = csv.DictWriter(file, fieldnames=['Metric Name', 'Metric Value'])\n",
    "    writer.writeheader()\n",
    "    writer.writerows(metrics_data)\n",
    "\n",
    "print(f\"Metrics saved to {csv_file}\")"
   ]
  }
 ],
 "metadata": {
  "kernelspec": {
   "display_name": "myenv",
   "language": "python",
   "name": "python3"
  },
  "language_info": {
   "codemirror_mode": {
    "name": "ipython",
    "version": 3
   },
   "file_extension": ".py",
   "mimetype": "text/x-python",
   "name": "python",
   "nbconvert_exporter": "python",
   "pygments_lexer": "ipython3",
   "version": "3.11.5"
  }
 },
 "nbformat": 4,
 "nbformat_minor": 2
}
