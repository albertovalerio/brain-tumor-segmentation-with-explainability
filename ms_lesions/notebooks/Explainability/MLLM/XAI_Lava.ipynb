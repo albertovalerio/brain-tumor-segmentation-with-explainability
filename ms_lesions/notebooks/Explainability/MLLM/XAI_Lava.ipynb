{
 "cells": [
  {
   "cell_type": "code",
   "execution_count": 1,
   "metadata": {},
   "outputs": [],
   "source": [
    "# !pip install ollama\n",
    "# !pip install pandas"
   ]
  },
  {
   "cell_type": "code",
   "execution_count": 2,
   "metadata": {},
   "outputs": [],
   "source": [
    "import os\n",
    "import ollama\n",
    "import pandas as pd\n",
    "import json"
   ]
  },
  {
   "cell_type": "code",
   "execution_count": 3,
   "metadata": {},
   "outputs": [],
   "source": [
    "def description_from_ollama(image_path, prompt_to_use):\n",
    "    res = ollama.chat(\n",
    "        model=\"llava\", # model\n",
    "        messages=[\n",
    "            {\n",
    "                'role': 'user',\n",
    "                'content': prompt_to_use,\n",
    "                'images': [image_path]\n",
    "            }\n",
    "        ]\n",
    "    )\n",
    "    return res['message']['content']"
   ]
  },
  {
   "cell_type": "code",
   "execution_count": 4,
   "metadata": {},
   "outputs": [],
   "source": [
    "PROJECT_PATH = os.path.dirname(os.path.dirname(os.path.dirname((os.getcwd()))))\n",
    "PATH_PROMPT1 = PROJECT_PATH + '/notebooks/Explainability/Prompt/PROMPT1.txt'\n",
    "PATH_PROMPT2 = PROJECT_PATH + '/notebooks/Explainability/Prompt/PROMPT2.txt'\n",
    "PATH_PROMPT1_IT = PROJECT_PATH + '/notebooks/Explainability/Prompt/PROMPT1_IT.txt'\n",
    "PATH_PROMPT2_IT = PROJECT_PATH + '/notebooks/Explainability/Prompt/PROMPT2_IT.txt'\n",
    "IMAGE_PATH = PROJECT_PATH + '/results/Inference/SegResNet/Patient 1 Example/pred.png'"
   ]
  },
  {
   "cell_type": "code",
   "execution_count": 5,
   "metadata": {},
   "outputs": [],
   "source": [
    "with open(PATH_PROMPT1, 'r') as file:\n",
    "    PROMPT1 = file.read()\n",
    "\n",
    "with open(PATH_PROMPT2, 'r') as file:\n",
    "    PROMPT2 = file.read()\n",
    "\n",
    "with open(PATH_PROMPT1_IT, 'r') as file:\n",
    "    PROMPT1_IT = file.read()\n",
    "\n",
    "with open(PATH_PROMPT2_IT, 'r') as file:\n",
    "    PROMPT2_IT = file.read()"
   ]
  },
  {
   "cell_type": "markdown",
   "metadata": {},
   "source": [
    "# PROMPT 1 - English"
   ]
  },
  {
   "cell_type": "code",
   "execution_count": 6,
   "metadata": {},
   "outputs": [],
   "source": [
    "PROMPT1 = \"Using the provided example in the coordinates (4,-25,21) of the MS lesion segmentation and \" + PROMPT1"
   ]
  },
  {
   "cell_type": "code",
   "execution_count": 7,
   "metadata": {},
   "outputs": [],
   "source": [
    "resp1 = description_from_ollama(IMAGE_PATH, PROMPT1)\n",
    "with open(\"llava_response_PROMPT1.MD\", \"w\") as file:\n",
    "    file.write(resp1)\n",
    "\n",
    "print(resp1)"
   ]
  },
  {
   "cell_type": "markdown",
   "metadata": {},
   "source": [
    "# PROMPT 2 - English"
   ]
  },
  {
   "cell_type": "code",
   "execution_count": null,
   "metadata": {},
   "outputs": [],
   "source": [
    "PROMPT2 = \"Using the provided example in the coordinates (4,-25,21) of the MS lesion segmentation and \" + PROMPT2"
   ]
  },
  {
   "cell_type": "code",
   "execution_count": null,
   "metadata": {},
   "outputs": [],
   "source": [
    "resp2 = description_from_ollama(IMAGE_PATH, PROMPT2)\n",
    "with open(\"llava_response_PROMPT2.MD\", \"w\") as file:\n",
    "    file.write(resp2)\n",
    "\n",
    "print(resp2)"
   ]
  },
  {
   "cell_type": "markdown",
   "metadata": {},
   "source": [
    "# PROMPT 1 - Italian"
   ]
  },
  {
   "cell_type": "code",
   "execution_count": null,
   "metadata": {},
   "outputs": [],
   "source": [
    "PROMPT1_IT = \"Utilizzando l'esempio fornito nelle coordinate (4,-25,21) della segmentazione della lesione e \" + PROMPT1_IT"
   ]
  },
  {
   "cell_type": "code",
   "execution_count": null,
   "metadata": {},
   "outputs": [],
   "source": [
    "resp1_IT = description_from_ollama(IMAGE_PATH, PROMPT1_IT)\n",
    "with open(\"llava_response_PROMPT1_IT.MD\", \"w\") as file:\n",
    "    file.write(resp1_IT)\n",
    "\n",
    "print(resp1_IT)"
   ]
  },
  {
   "cell_type": "markdown",
   "metadata": {},
   "source": [
    "# PROMPT 2 - Italian"
   ]
  },
  {
   "cell_type": "code",
   "execution_count": null,
   "metadata": {},
   "outputs": [],
   "source": [
    "PROMPT2_IT = \"Utilizzando l'esempio fornito nelle coordinate (4,-25,21) della segmentazione della lesione e \" + PROMPT2_IT"
   ]
  },
  {
   "cell_type": "code",
   "execution_count": null,
   "metadata": {},
   "outputs": [],
   "source": [
    "resp2_IT = description_from_ollama(IMAGE_PATH, PROMPT2_IT)\n",
    "with open(\"llava_response_PROMPT2_IT.MD\", \"w\") as file:\n",
    "    file.write(resp2_IT)\n",
    "\n",
    "print(resp2_IT)"
   ]
  }
 ],
 "metadata": {
  "kernelspec": {
   "display_name": "myenv",
   "language": "python",
   "name": "python3"
  },
  "language_info": {
   "codemirror_mode": {
    "name": "ipython",
    "version": 3
   },
   "file_extension": ".py",
   "mimetype": "text/x-python",
   "name": "python",
   "nbconvert_exporter": "python",
   "pygments_lexer": "ipython3",
   "version": "3.11.5"
  }
 },
 "nbformat": 4,
 "nbformat_minor": 2
}
