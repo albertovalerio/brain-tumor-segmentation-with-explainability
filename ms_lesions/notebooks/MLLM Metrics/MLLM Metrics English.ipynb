{
 "cells": [
  {
   "cell_type": "code",
   "execution_count": 1,
   "metadata": {},
   "outputs": [],
   "source": [
    "# %pip install spacy\n",
    "# %pip install textstat\n",
    "# %pip install -U sentence-transformers\n",
    "# %pip install spacy nltk"
   ]
  },
  {
   "cell_type": "markdown",
   "metadata": {},
   "source": [
    "# Import Libraries"
   ]
  },
  {
   "cell_type": "code",
   "execution_count": 1,
   "metadata": {},
   "outputs": [
    {
     "name": "stderr",
     "output_type": "stream",
     "text": [
      "d:\\User\\Salvarki\\Desktop\\GitHub Tesi Project\\myenv\\Lib\\site-packages\\sentence_transformers\\cross_encoder\\CrossEncoder.py:11: TqdmWarning: IProgress not found. Please update jupyter and ipywidgets. See https://ipywidgets.readthedocs.io/en/stable/user_install.html\n",
      "  from tqdm.autonotebook import tqdm, trange\n"
     ]
    }
   ],
   "source": [
    "import os\n",
    "import glob\n",
    "import csv\n",
    "import numpy as np\n",
    "import string\n",
    "import spacy\n",
    "from spacy.tokenizer import Tokenizer\n",
    "from spacy.lang.en import English\n",
    "from spacy.lang.en.stop_words import STOP_WORDS\n",
    "from nltk.stem import PorterStemmer\n",
    "from textstat import flesch_reading_ease\n",
    "from textstat import gulpease_index\n",
    "from sentence_transformers import SentenceTransformer\n",
    "from sklearn.metrics.pairwise import cosine_similarity\n"
   ]
  },
  {
   "cell_type": "code",
   "execution_count": 2,
   "metadata": {},
   "outputs": [],
   "source": [
    "nlp = English()\n",
    "# Create a blank Tokenizer with just the English vocab\n",
    "tokenizer = Tokenizer(nlp.vocab)"
   ]
  },
  {
   "cell_type": "code",
   "execution_count": 3,
   "metadata": {},
   "outputs": [],
   "source": [
    "PROJECT_PATH = os.path.dirname(os.path.dirname(os.getcwd()))\n",
    "RESULT_PATH = PROJECT_PATH + '/results/MLLM Reports/'"
   ]
  },
  {
   "cell_type": "code",
   "execution_count": 4,
   "metadata": {},
   "outputs": [
    {
     "data": {
      "text/plain": [
       "'d:\\\\User\\\\Salvarki\\\\Desktop\\\\GitHub Tesi Project\\\\Visual-and-Textual-Explainability-in-Brain-Multiple-Sclerosis-Detection-with-3D-MRI/results/MLLM Reports/'"
      ]
     },
     "execution_count": 4,
     "metadata": {},
     "output_type": "execute_result"
    }
   ],
   "source": [
    "RESULT_PATH"
   ]
  },
  {
   "cell_type": "markdown",
   "metadata": {},
   "source": [
    "# Functions"
   ]
  },
  {
   "cell_type": "markdown",
   "metadata": {},
   "source": [
    "## TTR"
   ]
  },
  {
   "cell_type": "code",
   "execution_count": 5,
   "metadata": {},
   "outputs": [],
   "source": [
    "def compute_TypeTokenRatio(content):\n",
    "    tokenized_content = tokenizer(content)\n",
    "    tokenized_text = [i.text for i in tokenized_content]\n",
    "    types = len(set(tokenized_text))\n",
    "    tokens = len(tokenized_text)\n",
    "    type_token_ratio = types / tokens\n",
    "    return type_token_ratio"
   ]
  },
  {
   "cell_type": "markdown",
   "metadata": {},
   "source": [
    "## MAAS Index"
   ]
  },
  {
   "cell_type": "code",
   "execution_count": 6,
   "metadata": {},
   "outputs": [],
   "source": [
    "def compute_Maas(content):\n",
    "    tokenized_content = tokenizer(content)\n",
    "    tokenized_text = [i.text for i in tokenized_content]\n",
    "    types = len(set(tokenized_text))\n",
    "    tokens = len(tokenized_text)\n",
    "    maas = (np.log(tokens) - np.log(types)) / np.log(tokens)**2\n",
    "    return maas"
   ]
  },
  {
   "cell_type": "markdown",
   "metadata": {},
   "source": [
    "## Flesh Reading Ease (English)"
   ]
  },
  {
   "cell_type": "code",
   "execution_count": 7,
   "metadata": {},
   "outputs": [],
   "source": [
    "def compute_FleschReadingEase(text):\n",
    "    return flesch_reading_ease(text)"
   ]
  },
  {
   "cell_type": "markdown",
   "metadata": {},
   "source": [
    "## Coherence Score"
   ]
  },
  {
   "cell_type": "code",
   "execution_count": 8,
   "metadata": {},
   "outputs": [],
   "source": [
    "def remove_special_characters(text):\n",
    "    cleaned_text = text.replace('-', '').replace('\\n', '').replace('*', '').replace('#','')\n",
    "    return cleaned_text"
   ]
  },
  {
   "cell_type": "code",
   "execution_count": 9,
   "metadata": {},
   "outputs": [],
   "source": [
    "def compute_CoherenceScore(text):\n",
    "    text = remove_special_characters(text)\n",
    "    model = SentenceTransformer('paraphrase-MiniLM-L6-v2')\n",
    "    sentences = text.split('.')\n",
    "    embeddings = model.encode(sentences)\n",
    "    similarities = [cosine_similarity([embeddings[i]], [embeddings[i+1]])[0][0] for i in range(len(embeddings)-1)]\n",
    "    avg_similarity = sum(similarities) / len(similarities)\n",
    "    return avg_similarity"
   ]
  },
  {
   "cell_type": "markdown",
   "metadata": {},
   "source": [
    "## Coverage Score Embedding"
   ]
  },
  {
   "cell_type": "code",
   "execution_count": 10,
   "metadata": {},
   "outputs": [],
   "source": [
    "def compute_CoverageScoreEmbedding(text, reference_text):\n",
    "    model = SentenceTransformer('paraphrase-MiniLM-L6-v2')\n",
    "    reference_text = reference_text.replace('.\\n\\n', '. ').replace('\\n\\t', '. ').replace('\\n\\n', '.').replace('\\n', '.').split('. ')\n",
    "    \n",
    "    reference_embeddings = model.encode(reference_text)\n",
    "    text_embeddings = model.encode([text])\n",
    "\n",
    "    similarities = cosine_similarity(text_embeddings, reference_embeddings)\n",
    "    coverage = sum(similarities[0]) / len(reference_text)\n",
    "    return coverage"
   ]
  },
  {
   "cell_type": "markdown",
   "metadata": {},
   "source": [
    "## Coverage Token Score\n"
   ]
  },
  {
   "cell_type": "code",
   "execution_count": 11,
   "metadata": {},
   "outputs": [],
   "source": [
    "def remove_stopwords_punctuation(text):\n",
    "    # Load the English model\n",
    "    nlp = nlp = English()\n",
    "    # Process the text with spaCy\n",
    "    doc = nlp(text)\n",
    "    # Filter out stopwords and punctuation\n",
    "    cleaned_tokens = [token.text for token in doc if not token.is_stop and token.text not in string.punctuation]\n",
    "\n",
    "    # Join the tokens back into a single string\n",
    "    cleaned_text = ' '.join(cleaned_tokens)\n",
    "    cleaned_text = cleaned_text.replace('.', '')\n",
    "    return cleaned_text"
   ]
  },
  {
   "cell_type": "code",
   "execution_count": 12,
   "metadata": {},
   "outputs": [],
   "source": [
    "def stem_tokens(tokens):\n",
    "    stemmer = PorterStemmer()\n",
    "    return [stemmer.stem(token) for token in tokens]"
   ]
  },
  {
   "cell_type": "code",
   "execution_count": 13,
   "metadata": {},
   "outputs": [],
   "source": [
    "def remove_numbers(text):\n",
    "    return ''.join([i for i in text if not i.isdigit()])"
   ]
  },
  {
   "cell_type": "code",
   "execution_count": 14,
   "metadata": {},
   "outputs": [],
   "source": [
    "def compute_CoverageScoreToken(text, reference_text):\n",
    "    text = remove_special_characters(text)\n",
    "    text = remove_stopwords_punctuation(text)\n",
    "    text = remove_numbers(text)\n",
    "    text = text.lower()\n",
    "    reference_text = remove_special_characters(reference_text)\n",
    "    reference_text = remove_stopwords_punctuation(reference_text)\n",
    "    reference_text = remove_numbers(reference_text)\n",
    "    reference_text = reference_text.lower()\n",
    "\n",
    "\n",
    "    tokenized_text = tokenizer(text)\n",
    "    tokenized_text = [i.text for i in tokenized_text]\n",
    "\n",
    "    tokenized_reference_text = tokenizer(reference_text)\n",
    "    tokenized_reference_text = [i.text for i in tokenized_reference_text]\n",
    "    \n",
    "    stemmed_text = stem_tokens(tokenized_text)\n",
    "    stemmed_reference_text = stem_tokens(tokenized_reference_text)\n",
    "\n",
    "    set_tokenized_text = set(stemmed_text)\n",
    "    set_tokenized_reference_text = set(stemmed_reference_text)\n",
    "\n",
    "    intersection = set_tokenized_text.intersection(set_tokenized_reference_text)\n",
    "    union = set_tokenized_text.union(set_tokenized_reference_text)\n",
    "    coverage = len(intersection) / len(union)\n",
    "    \n",
    "    \n",
    "    return coverage"
   ]
  },
  {
   "cell_type": "markdown",
   "metadata": {},
   "source": [
    "# Prompt Path"
   ]
  },
  {
   "cell_type": "code",
   "execution_count": 15,
   "metadata": {},
   "outputs": [],
   "source": [
    "PATH_LLAVA_PROMPT = PROJECT_PATH + '/notebooks/Explainability/Prompt/Llava_Prompt.txt'\n",
    "PATH_M3DLAMED_PROMPT = PROJECT_PATH + '/notebooks/Explainability/Prompt/M3D-LaMed_Prompt.txt'"
   ]
  },
  {
   "cell_type": "markdown",
   "metadata": {},
   "source": [
    "# LLAVA"
   ]
  },
  {
   "cell_type": "code",
   "execution_count": 21,
   "metadata": {},
   "outputs": [
    {
     "data": {
      "text/plain": [
       "['d:\\\\User\\\\Salvarki\\\\Desktop\\\\GitHub Tesi Project\\\\Visual-and-Textual-Explainability-in-Brain-Multiple-Sclerosis-Detection-with-3D-MRI/results/MLLM Reports//llava\\\\llava_response.md']"
      ]
     },
     "execution_count": 21,
     "metadata": {},
     "output_type": "execute_result"
    }
   ],
   "source": [
    "md_files = glob.glob(RESULT_PATH+'/llava/'+'*.md')\n",
    "md_files"
   ]
  },
  {
   "cell_type": "code",
   "execution_count": 22,
   "metadata": {},
   "outputs": [
    {
     "name": "stderr",
     "output_type": "stream",
     "text": [
      "d:\\User\\Salvarki\\Desktop\\GitHub Tesi Project\\myenv\\Lib\\site-packages\\huggingface_hub\\file_download.py:1132: FutureWarning: `resume_download` is deprecated and will be removed in version 1.0.0. Downloads always resume when possible. If you want to force a new download, use `force_download=True`.\n",
      "  warnings.warn(\n",
      "d:\\User\\Salvarki\\Desktop\\GitHub Tesi Project\\myenv\\Lib\\site-packages\\huggingface_hub\\file_download.py:1132: FutureWarning: `resume_download` is deprecated and will be removed in version 1.0.0. Downloads always resume when possible. If you want to force a new download, use `force_download=True`.\n",
      "  warnings.warn(\n"
     ]
    },
    {
     "name": "stdout",
     "output_type": "stream",
     "text": [
      "Type Token Ratio: 0.4745762711864407\n",
      "Maas Index: 0.018930225750148136\n",
      "Flesch Reading Ease: 44.95\n",
      "Coherence Score: 0.3102032515194474\n",
      "Coverage Score: 0.6677582462628683\n",
      "Coverage Score Token: 0.32857142857142857\n",
      "Metrics saved to llava_response_metrics.csv\n"
     ]
    }
   ],
   "source": [
    "path_llava_response = md_files[0]\n",
    "\n",
    "with open(path_llava_response, 'r') as file:\n",
    "    content = file.read()\n",
    "\n",
    "with open(PATH_LLAVA_PROMPT, 'r') as file:\n",
    "    prompt = file.read()\n",
    "\n",
    "type_token_ratio = compute_TypeTokenRatio(content)\n",
    "maas_index = compute_Maas(content)\n",
    "flesch_reading_ease = compute_FleschReadingEase(content)\n",
    "coherence_score = compute_CoherenceScore(content)\n",
    "coverage_score = compute_CoverageScoreEmbedding(content, prompt)\n",
    "coverage_score_token = compute_CoverageScoreToken(content, prompt)\n",
    "\n",
    "metric_names = ['Type Token Ratio', 'Maas Index', 'Flesch Reading Ease', 'Coherence Score', 'Coverage Score', 'Coverage Score Token']\n",
    "metric_values = [type_token_ratio, maas_index, flesch_reading_ease, coherence_score, coverage_score, coverage_score_token]\n",
    "\n",
    "# Create a list of dictionaries for each metric\n",
    "metrics_data = []\n",
    "for name, value in zip(metric_names, metric_values):\n",
    "    metrics_data.append({'Metric Name': name, 'Metric Value': round(value, 3)})\n",
    "    \n",
    "# Print metric name and value\n",
    "for name, value in zip(metric_names, metric_values):\n",
    "    print(f\"{name}: {value}\")\n",
    "\n",
    "# Write metrics to a CSV file\n",
    "csv_file = 'llava_response_metrics.csv'\n",
    "with open(csv_file, 'w', newline='') as file:\n",
    "    writer = csv.DictWriter(file, fieldnames=['Metric Name', 'Metric Value'])\n",
    "    writer.writeheader()\n",
    "    writer.writerows(metrics_data)\n",
    "\n",
    "print(f\"Metrics saved to {csv_file}\")"
   ]
  },
  {
   "cell_type": "markdown",
   "metadata": {},
   "source": [
    "# M3D-LaMed"
   ]
  },
  {
   "cell_type": "code",
   "execution_count": 16,
   "metadata": {},
   "outputs": [
    {
     "data": {
      "text/plain": [
       "['d:\\\\User\\\\Salvarki\\\\Desktop\\\\GitHub Tesi Project\\\\Visual-and-Textual-Explainability-in-Brain-Multiple-Sclerosis-Detection-with-3D-MRI/results/MLLM Reports//M3D\\\\M3D_LaMed.md']"
      ]
     },
     "execution_count": 16,
     "metadata": {},
     "output_type": "execute_result"
    }
   ],
   "source": [
    "md_files = glob.glob(RESULT_PATH+'/M3D/'+'*.md')\n",
    "md_files"
   ]
  },
  {
   "cell_type": "code",
   "execution_count": 17,
   "metadata": {},
   "outputs": [],
   "source": [
    "path_m3d = md_files[0]\n",
    "\n",
    "with open(path_m3d, 'r') as file:\n",
    "    content = file.read()\n",
    "\n",
    "with open(PATH_M3DLAMED_PROMPT, 'r') as file:\n",
    "    prompt = file.read()"
   ]
  },
  {
   "cell_type": "code",
   "execution_count": 18,
   "metadata": {},
   "outputs": [
    {
     "name": "stderr",
     "output_type": "stream",
     "text": [
      "d:\\User\\Salvarki\\Desktop\\GitHub Tesi Project\\myenv\\Lib\\site-packages\\huggingface_hub\\file_download.py:1132: FutureWarning: `resume_download` is deprecated and will be removed in version 1.0.0. Downloads always resume when possible. If you want to force a new download, use `force_download=True`.\n",
      "  warnings.warn(\n",
      "d:\\User\\Salvarki\\Desktop\\GitHub Tesi Project\\myenv\\Lib\\site-packages\\huggingface_hub\\file_download.py:1132: FutureWarning: `resume_download` is deprecated and will be removed in version 1.0.0. Downloads always resume when possible. If you want to force a new download, use `force_download=True`.\n",
      "  warnings.warn(\n"
     ]
    },
    {
     "name": "stdout",
     "output_type": "stream",
     "text": [
      "Type Token Ratio: 0.625\n",
      "Maas Index: 0.022560238008166967\n",
      "Flesch Reading Ease: 6.34\n",
      "Coherence Score: 0.21613657474517822\n",
      "Coverage Score: 0.3927145004272461\n",
      "Coverage Score Token: 0.10975609756097561\n",
      "Metrics saved to M3DLaMed_response_metrics.csv\n"
     ]
    }
   ],
   "source": [
    "type_token_ratio = compute_TypeTokenRatio(content)\n",
    "maas_index = compute_Maas(content)\n",
    "flesch_reading_ease = compute_FleschReadingEase(content)\n",
    "coherence_score = compute_CoherenceScore(content)\n",
    "coverage_score = compute_CoverageScoreEmbedding(content, prompt)\n",
    "coverage_score_token = compute_CoverageScoreToken(content, prompt)\n",
    "\n",
    "metric_names = ['Type Token Ratio', 'Maas Index', 'Flesch Reading Ease', 'Coherence Score', 'Coverage Score', 'Coverage Score Token']\n",
    "metric_values = [type_token_ratio, maas_index, flesch_reading_ease, coherence_score, coverage_score, coverage_score_token]\n",
    "\n",
    "# Create a list of dictionaries for each metric\n",
    "metrics_data = []\n",
    "for name, value in zip(metric_names, metric_values):\n",
    "    metrics_data.append({'Metric Name': name, 'Metric Value': round(value, 3)})\n",
    "\n",
    "# Print metric name and value\n",
    "for name, value in zip(metric_names, metric_values):\n",
    "    print(f\"{name}: {value}\")\n",
    "\n",
    "csv_file = 'M3DLaMed_response_metrics.csv'\n",
    "with open(csv_file, 'w', newline='') as file:\n",
    "    writer = csv.DictWriter(file, fieldnames=['Metric Name', 'Metric Value'])\n",
    "    writer.writeheader()\n",
    "    writer.writerows(metrics_data)\n",
    "\n",
    "print(f\"Metrics saved to {csv_file}\")"
   ]
  }
 ],
 "metadata": {
  "kernelspec": {
   "display_name": "myenv",
   "language": "python",
   "name": "python3"
  },
  "language_info": {
   "codemirror_mode": {
    "name": "ipython",
    "version": 3
   },
   "file_extension": ".py",
   "mimetype": "text/x-python",
   "name": "python",
   "nbconvert_exporter": "python",
   "pygments_lexer": "ipython3",
   "version": "3.11.5"
  }
 },
 "nbformat": 4,
 "nbformat_minor": 2
}
