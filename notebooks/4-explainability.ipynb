{
 "cells": [
  {
   "cell_type": "code",
   "execution_count": 1,
   "metadata": {},
   "outputs": [],
   "source": [
    "import os, sys, json\n",
    "from sys import platform\n",
    "from dotenv import dotenv_values\n",
    "from transformers import AutoModelForCausalLM, AutoTokenizer\n",
    "_base_path = '\\\\'.join(os.getcwd().split('\\\\')[:-1]) + '\\\\' if platform == 'win32' else '/'.join(os.getcwd().split('/')[:-1]) + '/'\n",
    "sys.path.append(_base_path)\n",
    "from src.helpers.utils import get_config, get_device"
   ]
  },
  {
   "cell_type": "code",
   "execution_count": 3,
   "metadata": {},
   "outputs": [],
   "source": [
    "_config = get_config()\n",
    "_env = dotenv_values(os.path.join(_base_path, '.env'))\n",
    "json_path = os.path.join(_base_path, _config.get('JSON_FOLDER'))\n",
    "if platform == 'win32':\n",
    "\tjson_path = json_path.replace('/', '\\\\')"
   ]
  },
  {
   "cell_type": "code",
   "execution_count": 4,
   "metadata": {},
   "outputs": [],
   "source": [
    "PROMPT = \"Using the provided JSON data from a brain MRI study, please generate a comprehensive report detailing the segmentation results of a brain tumor. Describe the tumor’s presence in various brain regions according to the Julich-Brain Atlas, noting the percentages of the tumor within each region and the impact on the region. While discussing the confidence of the segmentation and the model used, keep the explanations high-level and avoid overly technical details. The goal is to enhance the explainability of the AI segmentation to support clinical decision-making in a manner that can be easily understood by medical professionals. \""
   ]
  },
  {
   "cell_type": "code",
   "execution_count": 5,
   "metadata": {},
   "outputs": [],
   "source": [
    "with open(os.path.join(json_path, 'SegResNet_sample_2.json'), 'r') as f:\n",
    "\td = json.load(f)\n",
    "\tPROMPT += str(d)"
   ]
  },
  {
   "cell_type": "code",
   "execution_count": 6,
   "metadata": {},
   "outputs": [],
   "source": [
    "device = get_device()\n",
    "model_id = 'BioMistral/BioMistral-7B'\n",
    "tokenizer = AutoTokenizer.from_pretrained(model_id)\n",
    "model = AutoModelForCausalLM.from_pretrained(model_id).to(device)"
   ]
  },
  {
   "cell_type": "code",
   "execution_count": 11,
   "metadata": {},
   "outputs": [
    {
     "name": "stdout",
     "output_type": "stream",
     "text": [
      "The AI-based segmentation model was able to accurately identify the tumor in the provided brain MRI scan. \n",
      "The tumor was found to be present in five different brain regions according to the Julich-Brain Atlas, including Temporal-to-Parietal (GapMap) right, Area hOc4la (LOC) right, Area hOc4lp (LOC) right, Area hIP4 (IPS) right, and Area PGp (IPL) right. \n",
      "The percentage of the tumor within each region was 49.22%, 14.64%, 12.62%, 6.36%, and 4.98%, respectively. \n",
      "The impact of the tumor on the brain regions was also assessed, with the percentage of the region affected by the tumor being 15.55%, 89.44%, 84.2%, 97.44%, and 22.97%, respectively.\n"
     ]
    }
   ],
   "source": [
    "inputs = tokenizer.apply_chat_template(\n",
    "\t[{'role': 'user', 'content': PROMPT}],\n",
    "\ttokenize = True,\n",
    "\tadd_generation_prompt = True,\n",
    "\treturn_tensors = 'pt'\n",
    ").to(device)\n",
    "outputs = model.generate(\n",
    "\tinputs,\n",
    "\tmax_new_tokens = 1024,\n",
    "\tpad_token_id = tokenizer.eos_token_id\n",
    ")\n",
    "readable_output = tokenizer.decode(outputs[0], skip_special_tokens=True)\n",
    "\n",
    "print(readable_output.split('[/INST] ')[1].replace('. ', '. \\n'))"
   ]
  },
  {
   "cell_type": "code",
   "execution_count": 10,
   "metadata": {},
   "outputs": [
    {
     "name": "stdout",
     "output_type": "stream",
     "text": [
      "Using the provided JSON data from a brain MRI study, please generate a comprehensive report detailing the segmentation results of a brain tumor. Describe the tumor’s presence in various brain regions according to the Julich-Brain Atlas, noting the percentages of the tumor within each region and the impact on the region. While discussing the confidence of the segmentation and the model used, keep the explanations high-level and avoid overly technical details. The goal is to enhance the explainability of the AI segmentation to support clinical decision-making in a manner that can be easily understood by medical professionals. {'MRI_Scan': {'Tumor_Details': {'Spatial_Distribution': [{'Region': 'Temporal-to-Parietal (GapMap) right', 'Percentage_of_Tumor': 49.22, 'Percentage_of_Region_Affected': 15.55}, {'Region': 'Area hOc4la (LOC) right', 'Percentage_of_Tumor': 14.64, 'Percentage_of_Region_Affected': 89.44}, {'Region': 'Area hOc4lp (LOC) right', 'Percentage_of_Tumor': 12.62, 'Percentage_of_Region_Affected': 84.2}, {'Region': 'Area hIP4 (IPS) right', 'Percentage_of_Tumor': 6.36, 'Percentage_of_Region_Affected': 97.44}, {'Region': 'Area PGp (IPL) right', 'Percentage_of_Tumor': 4.98, 'Percentage_of_Region_Affected': 22.97}]}}}\n"
     ]
    }
   ],
   "source": [
    "print(PROMPT)"
   ]
  }
 ],
 "metadata": {
  "kernelspec": {
   "display_name": "Python 3",
   "language": "python",
   "name": "python3"
  },
  "language_info": {
   "codemirror_mode": {
    "name": "ipython",
    "version": 3
   },
   "file_extension": ".py",
   "mimetype": "text/x-python",
   "name": "python",
   "nbconvert_exporter": "python",
   "pygments_lexer": "ipython3",
   "version": "3.11.4"
  }
 },
 "nbformat": 4,
 "nbformat_minor": 2
}
