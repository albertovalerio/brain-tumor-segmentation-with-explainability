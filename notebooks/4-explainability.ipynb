{
 "cells": [
  {
   "cell_type": "markdown",
   "metadata": {},
   "source": [
    "## **Settings**"
   ]
  },
  {
   "cell_type": "markdown",
   "metadata": {},
   "source": [
    "- Importing all necessary libraries and modules."
   ]
  },
  {
   "cell_type": "code",
   "execution_count": 1,
   "metadata": {},
   "outputs": [],
   "source": [
    "import os, sys, json\n",
    "from sys import platform\n",
    "_base_path = '\\\\'.join(os.getcwd().split('\\\\')[:-1]) + '\\\\' if platform == 'win32' else '/'.join(os.getcwd().split('/')[:-1]) + '/'\n",
    "sys.path.append(_base_path)\n",
    "from src.helpers.utils import get_config\n",
    "from src.helpers.prompts import get_prompt\n",
    "from src.modules.explainability import get_explanations"
   ]
  },
  {
   "cell_type": "markdown",
   "metadata": {},
   "source": [
    "- Definition of paths."
   ]
  },
  {
   "cell_type": "code",
   "execution_count": 2,
   "metadata": {},
   "outputs": [],
   "source": [
    "_config = get_config()\n",
    "_prompt = get_prompt()\n",
    "json_path = os.path.join(_base_path, _config.get('JSON_FOLDER'))\n",
    "prompt_path = os.path.join(_base_path, _config.get('PROMPT_FOLDER'))\n",
    "if platform == 'win32':\n",
    "\tjson_path = json_path.replace('/', '\\\\')\n",
    "\tprompt_path = prompt_path.replace('/', '\\\\')"
   ]
  },
  {
   "cell_type": "markdown",
   "metadata": {},
   "source": [
    "- Definition of language models.\n",
    "\n",
    "**NOTES**:\n",
    "\n",
    "1. **BioMistral** (See the [model card](https://huggingface.co/BioMistral/BioMistral-7B) on HuggingFace community)\n",
    "\n",
    "2. **Llama** (See the [model card](https://huggingface.co/meta-llama/Meta-Llama-3-8B-Instruct) on HuggingFace community)\n",
    "\n",
    "3. **Mistral** (See the [model card](https://huggingface.co/mistralai/Mistral-7B-Instruct-v0.2) on HuggingFace community)\n",
    "\n",
    "4. **Minerva** (See the [model card](https://huggingface.co/sapienzanlp/Minerva-3B-base-v1.0) on HuggingFace community)\n",
    "\n",
    "5. **Llamantino** (See the [model card](https://huggingface.co/swap-uniba/LLaMAntino-2-chat-7b-hf-UltraChat-ITA) on HuggingFace community)\n"
   ]
  },
  {
   "cell_type": "code",
   "execution_count": 3,
   "metadata": {},
   "outputs": [],
   "source": [
    "MODELS = {\n",
    "\t'biomistral': 'BioMistral/BioMistral-7B',\n",
    "\t'llama': 'meta-llama/Meta-Llama-3-8B-Instruct',\n",
    "\t'mistral': 'mistralai/Mistral-7B-Instruct-v0.2',\n",
    "\t'minerva': 'sapienzanlp/Minerva-1B-base-v1.0',\n",
    "\t'llamantino': 'swap-uniba/LLaMAntino-2-chat-7b-hf-UltraChat-ITA'\n",
    "}"
   ]
  },
  {
   "cell_type": "markdown",
   "metadata": {},
   "source": [
    "## **Report generation**"
   ]
  },
  {
   "cell_type": "markdown",
   "metadata": {},
   "source": [
    "- Selection of language, prompt and model to be tested.\n",
    "\n",
    "- Appending the generated JSON file to selected prompt.\n",
    "\n",
    "**NOTES**:\n",
    "\n",
    "1. The prompts definition is set in `src/helpers/prompts.py` configuration file.\n",
    "\n",
    "2. The prompts with the related output are saved into `prompts/` folder.\n"
   ]
  },
  {
   "cell_type": "code",
   "execution_count": 4,
   "metadata": {},
   "outputs": [],
   "source": [
    "LANG = 'IT'\n",
    "MODEL_ID = MODELS.get('mistral')\n",
    "PROMPT = _prompt.get(LANG).get('prompt_2')\n",
    "\n",
    "with open(os.path.join(json_path, 'SegResNet_sample_2_' + LANG.upper() + '.json'), 'r') as f:\n",
    "\td = json.load(f)\n",
    "\tPROMPT += str(d)"
   ]
  },
  {
   "cell_type": "markdown",
   "metadata": {},
   "source": [
    "- Generate and save the medical report.\n"
   ]
  },
  {
   "cell_type": "code",
   "execution_count": 5,
   "metadata": {},
   "outputs": [
    {
     "data": {
      "application/vnd.jupyter.widget-view+json": {
       "model_id": "38da3b0ac85342fa8d2d311df11f0278",
       "version_major": 2,
       "version_minor": 0
      },
      "text/plain": [
       "Loading checkpoint shards:   0%|          | 0/3 [00:00<?, ?it/s]"
      ]
     },
     "metadata": {},
     "output_type": "display_data"
    }
   ],
   "source": [
    "output = get_explanations(\n",
    "\tmodel_id = MODEL_ID,\n",
    "\tprompt = PROMPT,\n",
    "\twrite_to_file = True,\n",
    "\toutput_path = os.path.join(prompt_path, LANG.lower()),\n",
    "\toutput_length = 1024,\n",
    "\tverbose = False\n",
    ")"
   ]
  }
 ],
 "metadata": {
  "kernelspec": {
   "display_name": "Python 3",
   "language": "python",
   "name": "python3"
  },
  "language_info": {
   "codemirror_mode": {
    "name": "ipython",
    "version": 3
   },
   "file_extension": ".py",
   "mimetype": "text/x-python",
   "name": "python",
   "nbconvert_exporter": "python",
   "pygments_lexer": "ipython3",
   "version": "3.11.4"
  }
 },
 "nbformat": 4,
 "nbformat_minor": 2
}
