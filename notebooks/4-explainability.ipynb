{
 "cells": [
  {
   "cell_type": "code",
   "execution_count": 1,
   "metadata": {},
   "outputs": [],
   "source": [
    "import os, sys, json\n",
    "from sys import platform\n",
    "_base_path = '\\\\'.join(os.getcwd().split('\\\\')[:-1]) + '\\\\' if platform == 'win32' else '/'.join(os.getcwd().split('/')[:-1]) + '/'\n",
    "sys.path.append(_base_path)\n",
    "from src.helpers.utils import get_config\n",
    "from src.modules.explainability import get_explanations"
   ]
  },
  {
   "cell_type": "code",
   "execution_count": 2,
   "metadata": {},
   "outputs": [],
   "source": [
    "_config = get_config()\n",
    "json_path = os.path.join(_base_path, _config.get('JSON_FOLDER'))\n",
    "prompt_path = os.path.join(_base_path, _config.get('PROMPT_FOLDER'))\n",
    "if platform == 'win32':\n",
    "\tjson_path = json_path.replace('/', '\\\\')\n",
    "\tprompt_path = prompt_path.replace('/', '\\\\')"
   ]
  },
  {
   "cell_type": "code",
   "execution_count": 3,
   "metadata": {},
   "outputs": [],
   "source": [
    "PROMPT = \"Using the provided JSON data from a brain MRI study, please generate a comprehensive report detailing the segmentation results of a brain tumor. Describe the tumor's presence in various brain regions according to the Julich-Brain Atlas, noting the percentages of the tumor within each region and the impact on the region. While discussing the confidence of the segmentation and the model used, keep the explanations high-level and avoid overly technical details. The goal is to enhance the explainability of the AI segmentation to support clinical decision-making in a manner that can be easily understood by medical professionals. \"\n",
    "\n",
    "PROMPT = \"Using the provided JSON data from a brain MRI study, please generate a comprehensive report detailing the segmentation results of a brain tumor. The report should be structured as follows: 1. **Summary of Tumor Segmentation**: Provide an overview of the tumor's distribution across various regions of the brain according to the Julich-Brain Atlas. Discuss the semantic segmentation of the tumor into different categories (tumor core, peritumoral edema, GD-enhancing tumor) and their implications. 2. **Detailed Regional Impact**: For each region where the tumor is present, describe the percentage of the tumor within the region and the percentage of the region affected by the tumor. Discuss the known roles and functions of these regions in the brain and how the presence of the tumor might impact these functions. 3. **Semantic Segmentation**: Discuss the different aspects of the tumor identified by the semantic segmentation (tumor core, peritumoral edema, GD-enhancing tumor) and their potential clinical implications. 4. **Clinical Implications**: Discuss how the insights gained from the segmentation results could guide clinical decision-making, including potential treatment strategies and areas for further investigation. While discussing the confidence of the segmentation and the model used, keep the explanations high-level and avoid overly technical details. The goal is to enhance the explainability of the AI segmentation to support clinical decision-making in a manner that can be easily understood by medical professionals. \""
   ]
  },
  {
   "cell_type": "code",
   "execution_count": 4,
   "metadata": {},
   "outputs": [],
   "source": [
    "with open(os.path.join(json_path, 'SegResNet_sample_2.json'), 'r') as f:\n",
    "\td = json.load(f)\n",
    "\tPROMPT += str(d)"
   ]
  },
  {
   "cell_type": "code",
   "execution_count": 5,
   "metadata": {},
   "outputs": [
    {
     "name": "stdout",
     "output_type": "stream",
     "text": [
      "The brain MRI scan from the provided JSON data revealed a large, heterogeneous mass in the left temporal lobe. \n",
      "The tumor was found to be predominantly located in the temporal-to-parietal gap (gap map), with smaller portions extending into the area hOc4la (lateral occipital cortex), area hOc4lp (lateral occipital cortex), area hIP4 (inferior parietal cortex), and area PGp (posterior superior gyrus). \n",
      "The tumor affected 49.22% of the temporal-to-parietal gap, 14.64% of the area hOc4la, 12.62% of the area hOc4lp, 6.36% of the area hIP4, and 4.98% of the area PGp. \n",
      "The tumor was segmented into three distinct regions: tumor core, peritumoral edema, and GD-enhancing tumor. \n",
      "The tumor core was the largest region, comprising 40.12% of the entire tumor. \n",
      "The peritumoral edema region was the second largest, accounting for 38.74% of the tumor, while the GD-enhancing tumor region was the smallest, constituting 21.14% of the tumor.\n"
     ]
    }
   ],
   "source": [
    "output1 = get_explanations(\n",
    "\tmodel_id = 'BioMistral/BioMistral-7B',\n",
    "\tprompt = PROMPT,\n",
    "\twrite_to_file = True,\n",
    "\toutput_path = prompt_path,\n",
    "\toutput_length = 1024,\n",
    "\tverbose = True\n",
    ")"
   ]
  },
  {
   "cell_type": "code",
   "execution_count": 6,
   "metadata": {},
   "outputs": [
    {
     "name": "stderr",
     "output_type": "stream",
     "text": [
      "Special tokens have been added in the vocabulary, make sure the associated word embeddings are fine-tuned or trained.\n"
     ]
    },
    {
     "data": {
      "application/vnd.jupyter.widget-view+json": {
       "model_id": "b10de49b45ca4f239c9842eb85a079e0",
       "version_major": 2,
       "version_minor": 0
      },
      "text/plain": [
       "Loading checkpoint shards:   0%|          | 0/4 [00:00<?, ?it/s]"
      ]
     },
     "metadata": {},
     "output_type": "display_data"
    },
    {
     "name": "stdout",
     "output_type": "stream",
     "text": [
      "**Summary of Tumor Segmentation**\n",
      "\n",
      "The tumor segmentation analysis reveals a significant presence of the tumor in various regions of the brain, primarily affecting the right hemisphere. \n",
      "The tumor is predominantly distributed in the Temporal-to-Parietal region (49.22%), followed by the Area hOc4la (LOC) region (14.64%), and then the Area hOc4lp (LOC) region (12.62%). \n",
      "The tumor also affects the Area hIP4 (IPS) region (6.36%) and the Area PGp (IPL) region (4.98%) to a lesser extent.\n",
      "\n",
      "The semantic segmentation of the tumor into different categories (tumor core, peritumoral edema, GD-enhancing tumor) provides valuable insights into the tumor's characteristics. \n",
      "The tumor core is predominantly red, indicating a high degree of cellularity and malignant potential. \n",
      "The peritumoral edema is yellow, suggesting inflammation and tissue damage. \n",
      "The GD-enhancing tumor is green, indicating a high level of blood-brain barrier disruption and potential for treatment response.\n",
      "\n",
      "**Detailed Regional Impact**\n",
      "\n",
      "1. \n",
      "**Temporal-to-Parietal region (49.22% of tumor):** This region is responsible for processing auditory information and is closely linked to language processing. \n",
      "The presence of the tumor in this region may lead to difficulties with language comprehension, speech, and memory.\n",
      "2. \n",
      "**Area hOc4la (LOC) region (14.64% of tumor):** This region is involved in processing and storing visual information. \n",
      "The significant tumor presence in this region may result in visual field defects, agnosia, or even blindness.\n",
      "3. \n",
      "**Area hOc4lp (LOC) region (12.62% of tumor):** This region is also involved in visual processing and is closely linked to the Area hOc4la (LOC) region. \n",
      "The tumor presence in this region may have similar effects as described above.\n",
      "4. \n",
      "**Area hIP4 (IPS) region (6.36% of tumor):** This region is responsible for attentional processing and is involved in the integration of sensory information. \n",
      "The tumor presence in this region may lead to difficulties with attention, memory, and decision-making.\n",
      "5. \n",
      "**Area PGp (IPL) region (4.98% of tumor):** This region is involved in the processing of auditory information and is closely linked to the Temporal-to-Parietal region. \n",
      "The tumor presence in this region may have effects on language processing and auditory perception.\n",
      "\n",
      "**Semantic Segmentation**\n",
      "\n",
      "The semantic segmentation of the tumor into different categories provides valuable insights into the tumor's characteristics and potential clinical implications. \n",
      "The tumor core (red) is the most malignant part of the tumor, indicating a high degree of cellularity and potential for aggressive growth. \n",
      "The peritumoral edema (yellow) suggests inflammation and tissue damage, which may lead to increased risk of edema and mass effect. \n",
      "The GD-enhancing tumor (green) indicates a high level of blood-brain barrier disruption, which may be an important target for treatment.\n",
      "\n",
      "**Clinical Implications**\n",
      "\n",
      "The insights gained from the segmentation results could guide clinical decision-making in several ways:\n",
      "\n",
      "1. \n",
      "**Treatment planning:** The tumor's distribution and characteristics can inform treatment strategies, such as radiation therapy, surgery, or chemotherapy.\n",
      "2. \n",
      "**Monitoring:** The segmentation results can be used to monitor the tumor's growth and response to treatment, allowing for early detection of changes and adjustments to treatment plans.\n",
      "3. \n",
      "**Research:** The segmentation results can provide valuable insights into the tumor's biology and behavior, informing the development of new treatments and therapies.\n",
      "\n",
      "The confidence of the segmentation is high, with an average Dice score of 0.98 and an average Hausdorff distance of 1.0. \n",
      "The model used, SegResNet, is a state-of-the-art deep learning architecture for medical image segmentation. \n",
      "While the technical details of the model may be complex, the results demonstrate the potential for AI-powered segmentation to enhance clinical decision-making and patient care.\n"
     ]
    }
   ],
   "source": [
    "output2 = get_explanations(\n",
    "\tmodel_id = 'meta-llama/Meta-Llama-3-8B-Instruct',\n",
    "\tprompt = PROMPT,\n",
    "\twrite_to_file = True,\n",
    "\toutput_path = prompt_path,\n",
    "\toutput_length = 1024,\n",
    "\tverbose = True\n",
    ")"
   ]
  }
 ],
 "metadata": {
  "kernelspec": {
   "display_name": "Python 3",
   "language": "python",
   "name": "python3"
  },
  "language_info": {
   "codemirror_mode": {
    "name": "ipython",
    "version": 3
   },
   "file_extension": ".py",
   "mimetype": "text/x-python",
   "name": "python",
   "nbconvert_exporter": "python",
   "pygments_lexer": "ipython3",
   "version": "3.11.4"
  }
 },
 "nbformat": 4,
 "nbformat_minor": 2
}
