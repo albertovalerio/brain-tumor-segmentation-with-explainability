{
 "cells": [
  {
   "cell_type": "markdown",
   "metadata": {},
   "source": [
    "## **Settings**"
   ]
  },
  {
   "cell_type": "markdown",
   "metadata": {},
   "source": [
    "- Importing all necessary libraries and modules."
   ]
  },
  {
   "cell_type": "code",
   "execution_count": 1,
   "metadata": {},
   "outputs": [],
   "source": [
    "import os, sys, json\n",
    "from sys import platform\n",
    "_base_path = '\\\\'.join(os.getcwd().split('\\\\')[:-1]) + '\\\\' if platform == 'win32' else '/'.join(os.getcwd().split('/')[:-1]) + '/'\n",
    "sys.path.append(_base_path)\n",
    "from src.helpers.utils import get_config\n",
    "from src.modules.explainability import get_explanations"
   ]
  },
  {
   "cell_type": "markdown",
   "metadata": {},
   "source": [
    "- Definition of paths."
   ]
  },
  {
   "cell_type": "code",
   "execution_count": 2,
   "metadata": {},
   "outputs": [],
   "source": [
    "_config = get_config()\n",
    "json_path = os.path.join(_base_path, _config.get('JSON_FOLDER'))\n",
    "prompt_path = os.path.join(_base_path, _config.get('PROMPT_FOLDER'))\n",
    "if platform == 'win32':\n",
    "\tjson_path = json_path.replace('/', '\\\\')\n",
    "\tprompt_path = prompt_path.replace('/', '\\\\')"
   ]
  },
  {
   "cell_type": "markdown",
   "metadata": {},
   "source": [
    "- Definition of two different prompts to be tested."
   ]
  },
  {
   "cell_type": "code",
   "execution_count": 4,
   "metadata": {},
   "outputs": [],
   "source": [
    "PROMPT = \"\"\"Using the provided JSON data from a brain MRI study, please generate a comprehensive report detailing the segmentation results of a brain tumor.\n",
    "\n",
    "Describe the tumor's presence in various brain regions according to the Julich-Brain Atlas, noting the percentages of the tumor within each region and the impact on the region. While discussing the confidence of the segmentation and the model used, keep the explanations high-level and avoid overly technical details.\n",
    "\n",
    "The goal is to enhance the explainability of the AI segmentation to support clinical decision-making in a manner that can be easily understood by medical professionals.\n",
    "\n",
    "\"\"\"\n",
    "\n",
    "PROMPT = \"\"\"Using the provided JSON data from a brain MRI study, please generate a comprehensive report detailing the segmentation results of a brain tumor. The report should be structured as follows:\n",
    "\n",
    "1. **Summary of Tumor Segmentation**: Provide an overview of the tumor's distribution across various regions of the brain according to the Julich-Brain Atlas. Discuss the semantic segmentation of the tumor into different categories (tumor core, peritumoral edema, GD-enhancing tumor) and their implications.\n",
    "2. **Detailed Regional Impact**: For each region where the tumor is present, describe the percentage of the tumor within the region and the percentage of the region affected by the tumor. Discuss the known roles and functions of these regions in the brain and how the presence of the tumor might impact these functions.\n",
    "3. **Semantic Segmentation**: Discuss the different aspects of the tumor identified by the semantic segmentation (tumor core, peritumoral edema, GD-enhancing tumor) and their potential clinical implications.\n",
    "4. **Clinical Implications**: Discuss how the insights gained from the segmentation results could guide clinical decision-making, including potential treatment strategies and areas for further investigation.\n",
    "\n",
    "While discussing the confidence of the segmentation and the model used, keep the explanations high-level and avoid overly technical details. The goal is to enhance the explainability of the AI segmentation to support clinical decision-making in a manner that can be easily understood by medical professionals.\n",
    "\n",
    "\"\"\""
   ]
  },
  {
   "cell_type": "markdown",
   "metadata": {},
   "source": [
    "- Appending the JSON file to prompt."
   ]
  },
  {
   "cell_type": "code",
   "execution_count": 5,
   "metadata": {},
   "outputs": [],
   "source": [
    "with open(os.path.join(json_path, 'SegResNet_sample_2.json'), 'r') as f:\n",
    "\td = json.load(f)\n",
    "\tPROMPT += str(d)"
   ]
  },
  {
   "cell_type": "markdown",
   "metadata": {},
   "source": [
    "## **Report generation**"
   ]
  },
  {
   "cell_type": "markdown",
   "metadata": {},
   "source": [
    "- Testing on **BioMistral** language model.\n",
    "\n",
    "**NOTES**:\n",
    "\n",
    "1. For model reference please see the related [model card](https://huggingface.co/BioMistral/BioMistral-7B) on HuggingFace community."
   ]
  },
  {
   "cell_type": "code",
   "execution_count": 9,
   "metadata": {},
   "outputs": [
    {
     "name": "stdout",
     "output_type": "stream",
     "text": [
      "1. \n",
      "**Summary of Tumor Segmentation**: The tumor is present in five regions of the brain according to the Julich-Brain Atlas. \n",
      "The percentage of the tumor within each region and the percentage of the region affected by the tumor are as follows: 49.22% of the tumor is in the Temporal-to-Parietal (GapMap) right region, with 15.55% of the region affected by the tumor; 14.64% of the tumor is in the Area hOc4la (LOC) right region, with 89.44% of the region affected by the tumor; 12.62% of the tumor is in the Area hOc4lp (LOC) right region, with 84.2% of the region affected by the tumor; 6.36% of the tumor is in the Area hIP4 (IPS) right region, with 97.44% of the region affected by the tumor; and 4.98% of the tumor is in the Area PGp (IPL) right region, with 22.97% of the region affected by the tumor.\n"
     ]
    }
   ],
   "source": [
    "output1 = get_explanations(\n",
    "\tmodel_id = 'BioMistral/BioMistral-7B',\n",
    "\tprompt = PROMPT,\n",
    "\twrite_to_file = True,\n",
    "\toutput_path = prompt_path,\n",
    "\toutput_length = 1024,\n",
    "\tverbose = True\n",
    ")"
   ]
  },
  {
   "cell_type": "markdown",
   "metadata": {},
   "source": [
    "- Testing on **Llama-3** language model.\n",
    "\n",
    "**NOTES**:\n",
    "\n",
    "1. For model reference please see the related [model card](https://huggingface.co/meta-llama/Meta-Llama-3-8B-Instruct) on HuggingFace community."
   ]
  },
  {
   "cell_type": "code",
   "execution_count": 6,
   "metadata": {},
   "outputs": [
    {
     "name": "stderr",
     "output_type": "stream",
     "text": [
      "Special tokens have been added in the vocabulary, make sure the associated word embeddings are fine-tuned or trained.\n"
     ]
    },
    {
     "data": {
      "application/vnd.jupyter.widget-view+json": {
       "model_id": "bb1dd10d91fe4ecebb4581c0dad78c94",
       "version_major": 2,
       "version_minor": 0
      },
      "text/plain": [
       "Loading checkpoint shards:   0%|          | 0/4 [00:00<?, ?it/s]"
      ]
     },
     "metadata": {},
     "output_type": "display_data"
    },
    {
     "name": "stdout",
     "output_type": "stream",
     "text": [
      "**Summary of Tumor Segmentation**\n",
      "\n",
      "The brain MRI scan reveals a tumor with a spatial distribution across various regions of the brain, primarily affecting the right hemisphere. \n",
      "According to the Julich-Brain Atlas, the tumor is present in regions involved in language processing, memory, and spatial attention. \n",
      "The semantic segmentation of the tumor into three categories - tumor core, peritumoral edema, and GD-enhancing tumor - provides valuable insights into the tumor's characteristics and potential clinical implications.\n",
      "\n",
      "**Detailed Regional Impact**\n",
      "\n",
      "The tumor is most prominent in the Temporal-to-Parietal region (49.22% of the tumor is located within this region), which is responsible for processing auditory information and language. \n",
      "The tumor also affects the Area hOc4la (LOC) right (14.64% of the tumor), Area hOc4lp (LOC) right (12.62% of the tumor), Area hIP4 (IPS) right (6.36% of the tumor), and Area PGp (IPL) right (4.98% of the tumor). \n",
      "These regions are involved in various cognitive functions, including language processing, spatial attention, and memory.\n",
      "\n",
      "The percentage of the tumor within each region is as follows:\n",
      "\n",
      "* Temporal-to-Parietal (GapMap) right: 49.22%\n",
      "* Area hOc4la (LOC) right: 14.64%\n",
      "* Area hOc4lp (LOC) right: 12.62%\n",
      "* Area hIP4 (IPS) right: 6.36%\n",
      "* Area PGp (IPL) right: 4.98%\n",
      "\n",
      "The percentage of the region affected by the tumor is as follows:\n",
      "\n",
      "* Temporal-to-Parietal (GapMap) right: 15.55%\n",
      "* Area hOc4la (LOC) right: 89.44%\n",
      "* Area hOc4lp (LOC) right: 84.2%\n",
      "* Area hIP4 (IPS) right: 97.44%\n",
      "* Area PGp (IPL) right: 22.97%\n",
      "\n",
      "**Semantic Segmentation**\n",
      "\n",
      "The semantic segmentation of the tumor reveals three distinct categories:\n",
      "\n",
      "* **Tumor Core**: The tumor core is the central, most aggressive part of the tumor, characterized by a high level of cellular proliferation and necrosis. \n",
      "This region is likely to be the most critical area for treatment.\n",
      "* **Peritumoral Edema**: The peritumoral edema is a region of increased water content surrounding the tumor core, which can cause swelling and compression of surrounding brain tissue. \n",
      "This region may be a target for radiation therapy or other treatments aimed at reducing edema.\n",
      "* **GD-Enhancing Tumor**: The GD-enhancing tumor is a region of the tumor that is visible on Gadolinium-enhanced MRI scans, indicating increased blood flow and permeability. \n",
      "This region may be a target for chemotherapy or other treatments aimed at reducing tumor growth.\n",
      "\n",
      "**Clinical Implications**\n",
      "\n",
      "The insights gained from the segmentation results can guide clinical decision-making and inform treatment strategies. \n",
      "For example:\n",
      "\n",
      "* The tumor's spatial distribution and semantic segmentation can help identify the most critical regions for treatment, such as the tumor core.\n",
      "* The presence of peritumoral edema may indicate the need for radiation therapy or other treatments aimed at reducing edema.\n",
      "* The GD-enhancing tumor may be a target for chemotherapy or other treatments aimed at reducing tumor growth.\n",
      "* The model used for segmentation (SegResNet) has a high confidence score (Dice Score: 0.98, Hausdorff Distance: 1.0), indicating high accuracy in identifying the tumor's boundaries and characteristics.\n",
      "\n",
      "In conclusion, the segmentation results provide valuable insights into the tumor's distribution, characteristics, and potential clinical implications. \n",
      "By integrating these insights with clinical expertise, healthcare providers can develop personalized treatment plans that address the specific needs of each patient.\n"
     ]
    }
   ],
   "source": [
    "output2 = get_explanations(\n",
    "\tmodel_id = 'meta-llama/Meta-Llama-3-8B-Instruct',\n",
    "\tprompt = PROMPT,\n",
    "\twrite_to_file = True,\n",
    "\toutput_path = prompt_path,\n",
    "\toutput_length = 1024,\n",
    "\tverbose = True\n",
    ")"
   ]
  },
  {
   "cell_type": "markdown",
   "metadata": {},
   "source": [
    "- Testing on **Mistral** language model.\n",
    "\n",
    "**NOTES**:\n",
    "\n",
    "1. For model reference please see the related [model card](https://huggingface.co/mistralai/Mistral-7B-Instruct-v0.2) on HuggingFace community."
   ]
  },
  {
   "cell_type": "code",
   "execution_count": 5,
   "metadata": {},
   "outputs": [
    {
     "data": {
      "application/vnd.jupyter.widget-view+json": {
       "model_id": "c258d44cc06641eba305faa1697252cc",
       "version_major": 2,
       "version_minor": 0
      },
      "text/plain": [
       "Loading checkpoint shards:   0%|          | 0/3 [00:00<?, ?it/s]"
      ]
     },
     "metadata": {},
     "output_type": "display_data"
    },
    {
     "name": "stdout",
     "output_type": "stream",
     "text": [
      "Title: Brain Tumor Segmentation Report using Julich-Brain Atlas\n",
      "\n",
      "Introduction:\n",
      "This report provides a comprehensive analysis of a brain MRI scan that detected a tumor, using the provided JSON data. \n",
      "The report describes the tumor's presence in various brain regions according to the Julich-Brain Atlas, the impact on each region, and the segmentation results' confidence.\n",
      "\n",
      "Spatial Distribution of the Tumor:\n",
      "The tumor was predominantly located in the Temporal-to-Parietal (GapMap) region on the right side, accounting for 49.22% of the tumor. \n",
      "This region is part of the temporal lobe and the parietal lobe, playing a crucial role in auditory processing, memory, and spatial awareness. \n",
      "The tumor affected 15.55% of this region, potentially leading to symptoms like hearing loss, memory impairment, or spatial disorientation.\n",
      "\n",
      "Additionally, the tumor infiltrated the Area hOc4la (LOC) on the right side, accounting for 14.64% of the tumor. \n",
      "This region is part of the limbic system, responsible for emotional processing and memory consolidation. \n",
      "The tumor severely affected 89.44% of this region, which could result in emotional instability, memory loss, and altered behavior.\n",
      "\n",
      "Furthermore, the tumor affected the Area hOc4lp (LOC) on the right side, accounting for 12.62% of the tumor. \n",
      "This region is also part of the limbic system, and its involvement could lead to memory impairment and emotional instability. \n",
      "The tumor affected 84.2% of this region.\n",
      "\n",
      "The tumor was also detected in the Area PGp (IPL) on the right side, accounting for 4.98% of the tumor. \n",
      "This region is part of the inferior parietal lobule, which is involved in various cognitive functions, including attention, spatial processing, and language comprehension. \n",
      "The tumor affected 22.97% of this region, potentially leading to difficulties in attention, spatial processing, and language comprehension.\n",
      "\n",
      "Area hIP4 (IPS) on the right side was also affected by the tumor, accounting for 6.36% of the tumor. \n",
      "This region is part of the inferior parietal lobule, and its involvement could lead to motor deficits, sensory impairments, and spatial neglect. \n",
      "The tumor severely affected 97.44% of this region.\n",
      "\n",
      "Segmentation Results:\n",
      "The segmentation results were generated using the SegResNet model, which achieved high segmentation confidence. \n",
      "The tumor core was segmented with a Dice score of 0.99 and a Hausdorff distance of 1.0, indicating accurate segmentation. \n",
      "The peritumoral edema was segmented with a Dice score of 0.98 and a Hausdorff distance of 1.0, and the enhancing tumor was segmented with a Dice score of 0.96 and a Hausdorff distance of 1.0. \n",
      "The whole tumor achieved a Dice score of 0.98 and a Hausdorff distance of 1.0, with an average Dice score and Hausdorff distance of 0.98 for all segmented structures.\n",
      "\n",
      "Conclusion:\n",
      "The provided JSON data reveals that the brain tumor was predominantly located in various regions of the right hemisphere, including the Temporal-to-Parietal (GapMap), Area hOc4la (LOC), Area hOc4lp (LOC), and Area PGp (IPL), as well as Area hIP4 (IPS). \n",
      "The tumor significantly affected the functional roles of these regions, potentially leading to various symptoms such as memory impairment, emotional instability, motor deficits, and sensory impairments. \n",
      "The segmentation results achieved high confidence using the SegResNet model, ensuring accurate identification and localization of the tumor and its surrounding edema.\n"
     ]
    }
   ],
   "source": [
    "output3 = get_explanations(\n",
    "\tmodel_id = 'mistralai/Mistral-7B-Instruct-v0.2',\n",
    "\tprompt = PROMPT,\n",
    "\twrite_to_file = True,\n",
    "\toutput_path = prompt_path,\n",
    "\toutput_length = 1024,\n",
    "\tverbose = True\n",
    ")"
   ]
  }
 ],
 "metadata": {
  "kernelspec": {
   "display_name": "Python 3",
   "language": "python",
   "name": "python3"
  },
  "language_info": {
   "codemirror_mode": {
    "name": "ipython",
    "version": 3
   },
   "file_extension": ".py",
   "mimetype": "text/x-python",
   "name": "python",
   "nbconvert_exporter": "python",
   "pygments_lexer": "ipython3",
   "version": "3.11.4"
  }
 },
 "nbformat": 4,
 "nbformat_minor": 2
}
