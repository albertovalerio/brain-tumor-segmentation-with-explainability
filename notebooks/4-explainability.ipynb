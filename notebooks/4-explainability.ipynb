{
 "cells": [
  {
   "cell_type": "markdown",
   "metadata": {},
   "source": [
    "## **Settings**"
   ]
  },
  {
   "cell_type": "markdown",
   "metadata": {},
   "source": [
    "- Importing all necessary libraries and modules."
   ]
  },
  {
   "cell_type": "code",
   "execution_count": 1,
   "metadata": {},
   "outputs": [],
   "source": [
    "import os, sys\n",
    "from sys import platform\n",
    "_base_path = '\\\\'.join(os.getcwd().split('\\\\')[:-1]) + '\\\\' if platform == 'win32' else '/'.join(os.getcwd().split('/')[:-1]) + '/'\n",
    "sys.path.append(_base_path)\n",
    "import src.modules.plotting as plot\n",
    "from src.modules.explainability import get_explanations"
   ]
  },
  {
   "cell_type": "markdown",
   "metadata": {},
   "source": [
    "- Printing available language models.\n",
    "\n",
    "**NOTES**:\n",
    "\n",
    "1. **BioMistral** (See the [model card](https://huggingface.co/BioMistral/BioMistral-7B) on HuggingFace community)\n",
    "\n",
    "2. **Llama** (See the [model card](https://huggingface.co/meta-llama/Meta-Llama-3-8B-Instruct) on HuggingFace community)\n",
    "\n",
    "3. **Mistral** (See the [model card](https://huggingface.co/mistralai/Mistral-7B-Instruct-v0.2) on HuggingFace community)\n",
    "\n",
    "4. **Minerva** (See the [model card](https://huggingface.co/sapienzanlp/Minerva-3B-base-v1.0) on HuggingFace community)\n",
    "\n",
    "5. **Llamantino** (See the [model card V2](https://huggingface.co/swap-uniba/LLaMAntino-2-chat-7b-hf-UltraChat-ITA) and [model card V3](https://huggingface.co/swap-uniba/LLaMAntino-3-ANITA-8B-Inst-DPO-ITA) on HuggingFace community)\n"
   ]
  },
  {
   "cell_type": "code",
   "execution_count": 2,
   "metadata": {},
   "outputs": [
    {
     "name": "stdout",
     "output_type": "stream",
     "text": [
      "> > > > > > > > > > > > > > > > > > > > > > > > > > > > > > > > > > > \n",
      "\n",
      "MODEL_KEY      MODEL_NAME               \n",
      "\n",
      "> > > > > > > > > > > > > > > > > > > > > > > > > > > > > > > > > > > \n",
      "\u001b[1mbiomistral     \u001b[0mBioMistral-7B            \n",
      "\u001b[1mllama          \u001b[0mMeta-Llama-3-8B-Instruct \n",
      "\u001b[1mmistral        \u001b[0mMistral-7B-Instruct-v0.2 \n",
      "\u001b[1mminerva        \u001b[0mMinerva-1B-base-v1.0     \n",
      "\u001b[1mllamantino2    \u001b[0mLLaMAntino-2-chat-7b-hf-UltraChat-ITA\n",
      "\u001b[1mllamantino3    \u001b[0mLLaMAntino-3-ANITA-8B-Inst-DPO-ITA\n"
     ]
    }
   ],
   "source": [
    "plot.available_llms()"
   ]
  },
  {
   "cell_type": "markdown",
   "metadata": {},
   "source": [
    "## **Report generation**"
   ]
  },
  {
   "cell_type": "markdown",
   "metadata": {},
   "source": [
    "- Generate (and save) the medical report and all its computed metrics, by selecting:\n",
    "\n",
    "\t- the language (Italian or English);\n",
    "\n",
    "\t- the model (from those defined above);\n",
    "\n",
    "\t- the prompt's ID (type 1 or type 2).\n",
    "\n",
    "\n",
    "**NOTES**:\n",
    "\n",
    "1. For saving task the `write_to_file` parameter must be set to `True`.\n",
    "\n",
    "2. The prompts definition is set in `src/helpers/prompts.py` configuration file.\n",
    "\n",
    "3. The prompts with their related output will be saved into `prompts/` folder, while the computed metrics will be saved into `reports/` folder.\n"
   ]
  },
  {
   "cell_type": "code",
   "execution_count": 3,
   "metadata": {},
   "outputs": [],
   "source": [
    "output, metrics = get_explanations(\n",
    "\tlang = 'EN', \t\t\t\t# possible options are 'IT' or 'EN'\n",
    "\tmodel_key = 'biomistral',\t# possible options are shown above\n",
    "\tprompt_id = '1', \t\t\t# possible options are '1' or '2'\n",
    "\toutput_length = 1024,\n",
    "\twrite_prompt_to_file = False,\n",
    "\twrite_metrics_to_file = True,\n",
    "\tbase_path = _base_path,\n",
    "\tverbose = False\n",
    ")"
   ]
  }
 ],
 "metadata": {
  "kernelspec": {
   "display_name": "Python 3",
   "language": "python",
   "name": "python3"
  },
  "language_info": {
   "codemirror_mode": {
    "name": "ipython",
    "version": 3
   },
   "file_extension": ".py",
   "mimetype": "text/x-python",
   "name": "python",
   "nbconvert_exporter": "python",
   "pygments_lexer": "ipython3",
   "version": "3.11.4"
  }
 },
 "nbformat": 4,
 "nbformat_minor": 2
}
